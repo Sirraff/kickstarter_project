{
 "cells": [
  {
   "cell_type": "markdown",
   "id": "74311715-4288-40c4-a5c6-3ac13502535b",
   "metadata": {},
   "source": [
    "## CST 383: Intro to Data Science\n",
    "# Project 2 \n",
    "\n",
    "# Predicting Kickstarter Campaign Success\n",
    "## Authors: Brianna Magallon, Tyler Pruitt, Rafael Reis"
   ]
  },
  {
   "cell_type": "markdown",
   "id": "3b2abba3-2cd9-4a21-813e-fd78cb95fe0f",
   "metadata": {},
   "source": [
    "# Introduction: \n",
    "#### In this project, we use the Kickstarter Projects dataset to predict whether a campaign will be successful or not. The dataset includes campaign data like goal amount, category, duration, and currency. Our goal is to predict campaign success using classification models. \n",
    "### Dataset URL: https://www.kaggle.com/datasets/kemical/kickstarter-projects"
   ]
  },
  {
   "cell_type": "code",
   "execution_count": 70,
   "id": "a7ada490-50ed-49cf-99eb-e767383a42a9",
   "metadata": {},
   "outputs": [],
   "source": [
    "import warnings\n",
    "import pandas as pd\n",
    "import seaborn as sns\n",
    "import matplotlib.pyplot as plt\n",
    "from sklearn.model_selection import train_test_split, cross_val_score, GridSearchCV\n",
    "from sklearn.preprocessing import StandardScaler\n",
    "from sklearn.linear_model import LogisticRegression\n",
    "from sklearn.metrics import accuracy_score, confusion_matrix, classification_report\n",
    "from sklearn.neighbors import KNeighborsClassifier"
   ]
  },
  {
   "cell_type": "code",
   "execution_count": 72,
   "id": "a5df41d9-1efa-4332-8516-966ae178cede",
   "metadata": {},
   "outputs": [],
   "source": [
    "# plotting\n",
    "sns.set_theme(style='whitegrid', context='notebook')\n",
    "plt.rcParams['figure.figsize'] = 5,3"
   ]
  },
  {
   "cell_type": "markdown",
   "id": "4af77e08-130d-44c9-9590-dc50fb5a6ce0",
   "metadata": {},
   "source": [
    "## Read the data"
   ]
  },
  {
   "cell_type": "code",
   "execution_count": 75,
   "id": "e9eb5270-0a9f-4d67-807e-f389e7df1d3c",
   "metadata": {},
   "outputs": [],
   "source": [
    "df = pd.read_csv(\"ks-projects-201612.csv\", low_memory = False)\n",
    "#df = pd.read_csv(\"ks-projects-201612.csv\", encoding=\"cp1252\", low_memory=False) # to make encoding work, at elast on macOS"
   ]
  },
  {
   "cell_type": "code",
   "execution_count": 76,
   "id": "8548f04a-2c7c-4cbc-9e9e-809ccdaae018",
   "metadata": {
    "scrolled": true
   },
   "outputs": [],
   "source": [
    "#remove trailing spaces\n",
    "df.columns = df.columns.str.strip()"
   ]
  },
  {
   "cell_type": "code",
   "execution_count": 77,
   "id": "ed564a49-779a-4000-ba9a-dd47ef92d2a9",
   "metadata": {},
   "outputs": [
    {
     "data": {
      "text/html": [
       "<div>\n",
       "<style scoped>\n",
       "    .dataframe tbody tr th:only-of-type {\n",
       "        vertical-align: middle;\n",
       "    }\n",
       "\n",
       "    .dataframe tbody tr th {\n",
       "        vertical-align: top;\n",
       "    }\n",
       "\n",
       "    .dataframe thead th {\n",
       "        text-align: right;\n",
       "    }\n",
       "</style>\n",
       "<table border=\"1\" class=\"dataframe\">\n",
       "  <thead>\n",
       "    <tr style=\"text-align: right;\">\n",
       "      <th></th>\n",
       "      <th>ID</th>\n",
       "      <th>name</th>\n",
       "      <th>category</th>\n",
       "      <th>main_category</th>\n",
       "      <th>currency</th>\n",
       "      <th>deadline</th>\n",
       "      <th>goal</th>\n",
       "      <th>launched</th>\n",
       "      <th>pledged</th>\n",
       "      <th>state</th>\n",
       "      <th>backers</th>\n",
       "      <th>country</th>\n",
       "      <th>usd pledged</th>\n",
       "      <th>Unnamed: 13</th>\n",
       "      <th>Unnamed: 14</th>\n",
       "      <th>Unnamed: 15</th>\n",
       "      <th>Unnamed: 16</th>\n",
       "    </tr>\n",
       "  </thead>\n",
       "  <tbody>\n",
       "    <tr>\n",
       "      <th>304473</th>\n",
       "      <td>883790137</td>\n",
       "      <td>The Bride's Play (1922)</td>\n",
       "      <td>Film &amp; Video</td>\n",
       "      <td>Film &amp; Video</td>\n",
       "      <td>USD</td>\n",
       "      <td>2016-06-17 22:04:36</td>\n",
       "      <td>3000</td>\n",
       "      <td>2016-05-18 22:04:36</td>\n",
       "      <td>4043</td>\n",
       "      <td>successful</td>\n",
       "      <td>159</td>\n",
       "      <td>US</td>\n",
       "      <td>4043</td>\n",
       "      <td>NaN</td>\n",
       "      <td>NaN</td>\n",
       "      <td>NaN</td>\n",
       "      <td>NaN</td>\n",
       "    </tr>\n",
       "    <tr>\n",
       "      <th>81461</th>\n",
       "      <td>1483926931</td>\n",
       "      <td>Number Zero (a space opera) - We need you!</td>\n",
       "      <td>Performances</td>\n",
       "      <td>Dance</td>\n",
       "      <td>USD</td>\n",
       "      <td>2014-06-22 21:19:00</td>\n",
       "      <td>2400</td>\n",
       "      <td>2014-05-31 20:54:11</td>\n",
       "      <td>605</td>\n",
       "      <td>failed</td>\n",
       "      <td>11</td>\n",
       "      <td>US</td>\n",
       "      <td>605</td>\n",
       "      <td>NaN</td>\n",
       "      <td>NaN</td>\n",
       "      <td>NaN</td>\n",
       "      <td>NaN</td>\n",
       "    </tr>\n",
       "    <tr>\n",
       "      <th>114319</th>\n",
       "      <td>1678295184</td>\n",
       "      <td>vcemo : streaming 360 videos to virtual realit...</td>\n",
       "      <td>Software</td>\n",
       "      <td>Technology</td>\n",
       "      <td>USD</td>\n",
       "      <td>2014-12-17 16:22:24</td>\n",
       "      <td>34500</td>\n",
       "      <td>2014-11-17 16:22:24</td>\n",
       "      <td>14336</td>\n",
       "      <td>failed</td>\n",
       "      <td>75</td>\n",
       "      <td>US</td>\n",
       "      <td>14336</td>\n",
       "      <td>NaN</td>\n",
       "      <td>NaN</td>\n",
       "      <td>NaN</td>\n",
       "      <td>NaN</td>\n",
       "    </tr>\n",
       "    <tr>\n",
       "      <th>18493</th>\n",
       "      <td>1109256244</td>\n",
       "      <td>Upcycled WORLD WAR II fuel cans - for a repurp...</td>\n",
       "      <td>Product Design</td>\n",
       "      <td>Design</td>\n",
       "      <td>DKK</td>\n",
       "      <td>2015-12-16 00:00:00</td>\n",
       "      <td>250000</td>\n",
       "      <td>2015-11-16 17:19:07</td>\n",
       "      <td>38</td>\n",
       "      <td>canceled</td>\n",
       "      <td>2</td>\n",
       "      <td>DK</td>\n",
       "      <td>5.48419914</td>\n",
       "      <td>NaN</td>\n",
       "      <td>NaN</td>\n",
       "      <td>NaN</td>\n",
       "      <td>NaN</td>\n",
       "    </tr>\n",
       "    <tr>\n",
       "      <th>32075</th>\n",
       "      <td>1190099483</td>\n",
       "      <td>My Album Recording</td>\n",
       "      <td>Rock</td>\n",
       "      <td>Music</td>\n",
       "      <td>USD</td>\n",
       "      <td>2015-09-03 23:20:45</td>\n",
       "      <td>45000</td>\n",
       "      <td>2015-07-05 23:20:45</td>\n",
       "      <td>0</td>\n",
       "      <td>failed</td>\n",
       "      <td>0</td>\n",
       "      <td>US</td>\n",
       "      <td>0</td>\n",
       "      <td>NaN</td>\n",
       "      <td>NaN</td>\n",
       "      <td>NaN</td>\n",
       "      <td>NaN</td>\n",
       "    </tr>\n",
       "  </tbody>\n",
       "</table>\n",
       "</div>"
      ],
      "text/plain": [
       "                ID                                               name  \\\n",
       "304473   883790137                            The Bride's Play (1922)   \n",
       "81461   1483926931         Number Zero (a space opera) - We need you!   \n",
       "114319  1678295184  vcemo : streaming 360 videos to virtual realit...   \n",
       "18493   1109256244  Upcycled WORLD WAR II fuel cans - for a repurp...   \n",
       "32075   1190099483                                 My Album Recording   \n",
       "\n",
       "              category main_category currency             deadline    goal  \\\n",
       "304473    Film & Video  Film & Video      USD  2016-06-17 22:04:36    3000   \n",
       "81461     Performances         Dance      USD  2014-06-22 21:19:00    2400   \n",
       "114319        Software    Technology      USD  2014-12-17 16:22:24   34500   \n",
       "18493   Product Design        Design      DKK  2015-12-16 00:00:00  250000   \n",
       "32075             Rock         Music      USD  2015-09-03 23:20:45   45000   \n",
       "\n",
       "                   launched pledged       state backers country usd pledged  \\\n",
       "304473  2016-05-18 22:04:36    4043  successful     159      US        4043   \n",
       "81461   2014-05-31 20:54:11     605      failed      11      US         605   \n",
       "114319  2014-11-17 16:22:24   14336      failed      75      US       14336   \n",
       "18493   2015-11-16 17:19:07      38    canceled       2      DK  5.48419914   \n",
       "32075   2015-07-05 23:20:45       0      failed       0      US           0   \n",
       "\n",
       "       Unnamed: 13 Unnamed: 14 Unnamed: 15  Unnamed: 16  \n",
       "304473         NaN         NaN         NaN          NaN  \n",
       "81461          NaN         NaN         NaN          NaN  \n",
       "114319         NaN         NaN         NaN          NaN  \n",
       "18493          NaN         NaN         NaN          NaN  \n",
       "32075          NaN         NaN         NaN          NaN  "
      ]
     },
     "execution_count": 77,
     "metadata": {},
     "output_type": "execute_result"
    }
   ],
   "source": [
    "df.sample(5)"
   ]
  },
  {
   "cell_type": "code",
   "execution_count": 78,
   "id": "bf6a2a5b-a615-41c6-910c-d9d18c15ad98",
   "metadata": {
    "scrolled": true
   },
   "outputs": [
    {
     "name": "stdout",
     "output_type": "stream",
     "text": [
      "<class 'pandas.core.frame.DataFrame'>\n",
      "RangeIndex: 323750 entries, 0 to 323749\n",
      "Data columns (total 17 columns):\n",
      " #   Column         Non-Null Count   Dtype  \n",
      "---  ------         --------------   -----  \n",
      " 0   ID             323750 non-null  int64  \n",
      " 1   name           323746 non-null  object \n",
      " 2   category       323745 non-null  object \n",
      " 3   main_category  323750 non-null  object \n",
      " 4   currency       323750 non-null  object \n",
      " 5   deadline       323750 non-null  object \n",
      " 6   goal           323750 non-null  object \n",
      " 7   launched       323750 non-null  object \n",
      " 8   pledged        323750 non-null  object \n",
      " 9   state          323750 non-null  object \n",
      " 10  backers        323750 non-null  object \n",
      " 11  country        323750 non-null  object \n",
      " 12  usd pledged    319960 non-null  object \n",
      " 13  Unnamed: 13    625 non-null     object \n",
      " 14  Unnamed: 14    12 non-null      object \n",
      " 15  Unnamed: 15    4 non-null       object \n",
      " 16  Unnamed: 16    1 non-null       float64\n",
      "dtypes: float64(1), int64(1), object(15)\n",
      "memory usage: 42.0+ MB\n"
     ]
    }
   ],
   "source": [
    "df.info()"
   ]
  },
  {
   "cell_type": "markdown",
   "id": "c60fc255-b85c-4c51-ad65-98e484cae474",
   "metadata": {},
   "source": [
    "## Data Exploration"
   ]
  },
  {
   "cell_type": "markdown",
   "id": "dd4e8649-a9d8-4bd3-926b-8131744f3f59",
   "metadata": {},
   "source": [
    "#### In this section, we want to explore key aspects of the kickstarter data, including campaign outcomes, category distribution, and common funding goals. This will help us understand potential predictors of success. "
   ]
  },
  {
   "cell_type": "markdown",
   "id": "9b69ae80-be47-4a9e-ab41-6cc2b088c39f",
   "metadata": {},
   "source": [
    "A look at the columns."
   ]
  },
  {
   "cell_type": "code",
   "execution_count": 85,
   "id": "c6685cdf-5bb9-4f8d-afd4-908121ff1a58",
   "metadata": {
    "scrolled": true
   },
   "outputs": [
    {
     "data": {
      "text/plain": [
       "Index(['ID', 'name', 'category', 'main_category', 'currency', 'deadline',\n",
       "       'goal', 'launched', 'pledged', 'state', 'backers', 'country',\n",
       "       'usd pledged', 'Unnamed: 13', 'Unnamed: 14', 'Unnamed: 15',\n",
       "       'Unnamed: 16'],\n",
       "      dtype='object')"
      ]
     },
     "execution_count": 85,
     "metadata": {},
     "output_type": "execute_result"
    }
   ],
   "source": [
    "df.columns"
   ]
  },
  {
   "cell_type": "code",
   "execution_count": 89,
   "id": "81e5aee9-f2c7-4888-ac26-62e95616c27d",
   "metadata": {},
   "outputs": [
    {
     "data": {
      "text/html": [
       "<div>\n",
       "<style scoped>\n",
       "    .dataframe tbody tr th:only-of-type {\n",
       "        vertical-align: middle;\n",
       "    }\n",
       "\n",
       "    .dataframe tbody tr th {\n",
       "        vertical-align: top;\n",
       "    }\n",
       "\n",
       "    .dataframe thead th {\n",
       "        text-align: right;\n",
       "    }\n",
       "</style>\n",
       "<table border=\"1\" class=\"dataframe\">\n",
       "  <thead>\n",
       "    <tr style=\"text-align: right;\">\n",
       "      <th></th>\n",
       "      <th>ID</th>\n",
       "      <th>name</th>\n",
       "      <th>category</th>\n",
       "      <th>main_category</th>\n",
       "      <th>currency</th>\n",
       "      <th>deadline</th>\n",
       "      <th>goal</th>\n",
       "      <th>launched</th>\n",
       "      <th>pledged</th>\n",
       "      <th>state</th>\n",
       "      <th>backers</th>\n",
       "      <th>country</th>\n",
       "      <th>usd pledged</th>\n",
       "      <th>Unnamed: 13</th>\n",
       "      <th>Unnamed: 14</th>\n",
       "      <th>Unnamed: 15</th>\n",
       "      <th>Unnamed: 16</th>\n",
       "    </tr>\n",
       "  </thead>\n",
       "  <tbody>\n",
       "    <tr>\n",
       "      <th>3</th>\n",
       "      <td>1000011046</td>\n",
       "      <td>Community Film Project: The Art of Neighborhoo...</td>\n",
       "      <td>Film &amp; Video</td>\n",
       "      <td>Film &amp; Video</td>\n",
       "      <td>USD</td>\n",
       "      <td>2015-08-29 01:00:00</td>\n",
       "      <td>19500</td>\n",
       "      <td>2015-07-04 08:35:03</td>\n",
       "      <td>1283</td>\n",
       "      <td>canceled</td>\n",
       "      <td>14</td>\n",
       "      <td>US</td>\n",
       "      <td>1283</td>\n",
       "      <td>NaN</td>\n",
       "      <td>NaN</td>\n",
       "      <td>NaN</td>\n",
       "      <td>NaN</td>\n",
       "    </tr>\n",
       "    <tr>\n",
       "      <th>7</th>\n",
       "      <td>1000034518</td>\n",
       "      <td>SPIN - Premium Retractable In-Ear Headphones w...</td>\n",
       "      <td>Product Design</td>\n",
       "      <td>Design</td>\n",
       "      <td>USD</td>\n",
       "      <td>2014-05-29 18:14:43</td>\n",
       "      <td>125000</td>\n",
       "      <td>2014-04-24 18:14:43</td>\n",
       "      <td>8233</td>\n",
       "      <td>canceled</td>\n",
       "      <td>58</td>\n",
       "      <td>US</td>\n",
       "      <td>8233</td>\n",
       "      <td>NaN</td>\n",
       "      <td>NaN</td>\n",
       "      <td>NaN</td>\n",
       "      <td>NaN</td>\n",
       "    </tr>\n",
       "    <tr>\n",
       "      <th>8</th>\n",
       "      <td>100004195</td>\n",
       "      <td>STUDIO IN THE SKY - A Documentary Feature Film...</td>\n",
       "      <td>Documentary</td>\n",
       "      <td>Film &amp; Video</td>\n",
       "      <td>USD</td>\n",
       "      <td>2014-08-10 21:55:48</td>\n",
       "      <td>65000</td>\n",
       "      <td>2014-07-11 21:55:48</td>\n",
       "      <td>6240.57</td>\n",
       "      <td>canceled</td>\n",
       "      <td>43</td>\n",
       "      <td>US</td>\n",
       "      <td>6240.57</td>\n",
       "      <td>NaN</td>\n",
       "      <td>NaN</td>\n",
       "      <td>NaN</td>\n",
       "      <td>NaN</td>\n",
       "    </tr>\n",
       "    <tr>\n",
       "      <th>59</th>\n",
       "      <td>1000256760</td>\n",
       "      <td>Raise the Woof, expanding the love (Canceled)</td>\n",
       "      <td>Design</td>\n",
       "      <td>Design</td>\n",
       "      <td>CAD</td>\n",
       "      <td>2015-08-07 21:46:53</td>\n",
       "      <td>15000</td>\n",
       "      <td>2015-07-08 21:46:53</td>\n",
       "      <td>700</td>\n",
       "      <td>canceled</td>\n",
       "      <td>6</td>\n",
       "      <td>CA</td>\n",
       "      <td>553.324254</td>\n",
       "      <td>NaN</td>\n",
       "      <td>NaN</td>\n",
       "      <td>NaN</td>\n",
       "      <td>NaN</td>\n",
       "    </tr>\n",
       "    <tr>\n",
       "      <th>61</th>\n",
       "      <td>1000260691</td>\n",
       "      <td>Gizbeeô Unlimited Removable Storage for Your T...</td>\n",
       "      <td>Gadgets</td>\n",
       "      <td>Technology</td>\n",
       "      <td>USD</td>\n",
       "      <td>2016-03-25 19:30:27</td>\n",
       "      <td>87000</td>\n",
       "      <td>2016-02-29 20:30:27</td>\n",
       "      <td>2030</td>\n",
       "      <td>canceled</td>\n",
       "      <td>15</td>\n",
       "      <td>US</td>\n",
       "      <td>2030</td>\n",
       "      <td>NaN</td>\n",
       "      <td>NaN</td>\n",
       "      <td>NaN</td>\n",
       "      <td>NaN</td>\n",
       "    </tr>\n",
       "  </tbody>\n",
       "</table>\n",
       "</div>"
      ],
      "text/plain": [
       "            ID                                               name  \\\n",
       "3   1000011046  Community Film Project: The Art of Neighborhoo...   \n",
       "7   1000034518  SPIN - Premium Retractable In-Ear Headphones w...   \n",
       "8    100004195  STUDIO IN THE SKY - A Documentary Feature Film...   \n",
       "59  1000256760      Raise the Woof, expanding the love (Canceled)   \n",
       "61  1000260691  Gizbeeô Unlimited Removable Storage for Your T...   \n",
       "\n",
       "          category main_category currency             deadline    goal  \\\n",
       "3     Film & Video  Film & Video      USD  2015-08-29 01:00:00   19500   \n",
       "7   Product Design        Design      USD  2014-05-29 18:14:43  125000   \n",
       "8      Documentary  Film & Video      USD  2014-08-10 21:55:48   65000   \n",
       "59          Design        Design      CAD  2015-08-07 21:46:53   15000   \n",
       "61         Gadgets    Technology      USD  2016-03-25 19:30:27   87000   \n",
       "\n",
       "               launched  pledged     state backers country usd pledged  \\\n",
       "3   2015-07-04 08:35:03     1283  canceled      14      US        1283   \n",
       "7   2014-04-24 18:14:43     8233  canceled      58      US        8233   \n",
       "8   2014-07-11 21:55:48  6240.57  canceled      43      US     6240.57   \n",
       "59  2015-07-08 21:46:53      700  canceled       6      CA  553.324254   \n",
       "61  2016-02-29 20:30:27     2030  canceled      15      US        2030   \n",
       "\n",
       "   Unnamed: 13 Unnamed: 14 Unnamed: 15  Unnamed: 16  \n",
       "3          NaN         NaN         NaN          NaN  \n",
       "7          NaN         NaN         NaN          NaN  \n",
       "8          NaN         NaN         NaN          NaN  \n",
       "59         NaN         NaN         NaN          NaN  \n",
       "61         NaN         NaN         NaN          NaN  "
      ]
     },
     "execution_count": 89,
     "metadata": {},
     "output_type": "execute_result"
    }
   ],
   "source": [
    "df[df['state'] == \"canceled\"].head()"
   ]
  },
  {
   "cell_type": "code",
   "execution_count": 91,
   "id": "65ad09da-56d1-4f57-a242-9add6b1236ad",
   "metadata": {},
   "outputs": [],
   "source": [
    "dftest = df[df['country'] == 'US']\n",
    "dftest = dftest.drop(columns=[\"Unnamed: 13\", \"Unnamed: 14\", \"Unnamed: 15\", \"Unnamed: 16\"])"
   ]
  },
  {
   "cell_type": "code",
   "execution_count": 93,
   "id": "420c7056-ab7e-4404-b3fd-f60e49ad6aaa",
   "metadata": {},
   "outputs": [
    {
     "data": {
      "text/plain": [
       "category\n",
       "Product Design    13410\n",
       "Documentary       12864\n",
       "Music             10288\n",
       "Shorts            10009\n",
       "Food               9013\n",
       "                  ...  \n",
       "Weaving              45\n",
       "Residencies          34\n",
       "Letterpress          28\n",
       "Chiptune             23\n",
       "Taxidermy             6\n",
       "Name: count, Length: 158, dtype: int64"
      ]
     },
     "execution_count": 93,
     "metadata": {},
     "output_type": "execute_result"
    }
   ],
   "source": [
    "dftest['category'].value_counts()"
   ]
  },
  {
   "cell_type": "code",
   "execution_count": 95,
   "id": "86b0d8bd-13a1-463e-a932-ace93e51841c",
   "metadata": {},
   "outputs": [
    {
     "data": {
      "text/plain": [
       "main_category\n",
       "Film & Video    48086\n",
       "Music           39517\n",
       "Publishing      27973\n",
       "Games           20392\n",
       "Art             19640\n",
       "Design          18106\n",
       "Technology      17913\n",
       "Food            17479\n",
       "Fashion         13943\n",
       "Theater          8138\n",
       "Comics           7392\n",
       "Photography      7389\n",
       "Crafts           5570\n",
       "Journalism       3092\n",
       "Dance            2935\n",
       "Name: count, dtype: int64"
      ]
     },
     "execution_count": 95,
     "metadata": {},
     "output_type": "execute_result"
    }
   ],
   "source": [
    "dftest['main_category'].value_counts()"
   ]
  },
  {
   "cell_type": "markdown",
   "id": "bc645498-a933-4fd5-a83b-90855dc89f34",
   "metadata": {},
   "source": [
    "We want to see the different outcomes the campaigns had, and which ones will be most relevant for our predictions. "
   ]
  },
  {
   "cell_type": "code",
   "execution_count": 98,
   "id": "ba501279-17cb-4478-8984-50a9411b2bdc",
   "metadata": {},
   "outputs": [
    {
     "data": {
      "image/png": "[encoded data removed]",
      "text/plain": [
       "<Figure size 500x300 with 1 Axes>"
      ]
     },
     "metadata": {},
     "output_type": "display_data"
    }
   ],
   "source": [
    "state_counts = df['state'].value_counts().head(10)\n",
    "state_counts.plot.bar()\n",
    "plt.title('Distribution of campaign outcomes')\n",
    "plt.xlabel('state')\n",
    "plt.ylabel('count')\n",
    "plt.show()"
   ]
  },
  {
   "cell_type": "markdown",
   "id": "2f3f92f7-61a9-4eaf-823a-e9448dd32657",
   "metadata": {},
   "source": [
    "Here we are able to see that \"Failed\" and \"Successful\" are the most common. Most campaings fail and there is an imbalance. "
   ]
  },
  {
   "cell_type": "markdown",
   "id": "74ece990-1808-4e9f-92ae-46df7fad356a",
   "metadata": {},
   "source": [
    "Here is the exact number in each of these states."
   ]
  },
  {
   "cell_type": "code",
   "execution_count": 134,
   "id": "f8b439c3-efa8-43a7-bb1f-c939f0f8bd00",
   "metadata": {},
   "outputs": [
    {
     "data": {
      "text/plain": [
       "state\n",
       "failed        133594\n",
       "successful     95770\n",
       "canceled       24488\n",
       "Name: count, dtype: int64"
      ]
     },
     "execution_count": 134,
     "metadata": {},
     "output_type": "execute_result"
    }
   ],
   "source": [
    "df['state'].value_counts()"
   ]
  },
  {
   "cell_type": "markdown",
   "id": "b7e0425d-1534-4192-b76c-12ccece1f9c7",
   "metadata": {},
   "source": [
    "We want to see how Kickstarter campaigns are distributed across different project categories. This will help us understand which categories are most popular and whether there is an imbalance. "
   ]
  },
  {
   "cell_type": "code",
   "execution_count": 137,
   "id": "f526f7df-5bb7-45f8-95c8-6217cdfd76d3",
   "metadata": {},
   "outputs": [
    {
     "data": {
      "image/png": "[encoded data removed]",
      "text/plain": [
       "<Figure size 500x300 with 1 Axes>"
      ]
     },
     "metadata": {},
     "output_type": "display_data"
    }
   ],
   "source": [
    "df['main_category'].value_counts().head(10).plot.bar()\n",
    "plt.title(\"Number of campaigns per main category\")\n",
    "plt.xlabel(\"main category\")\n",
    "plt.ylabel(\"count\")\n",
    "plt.show()"
   ]
  },
  {
   "cell_type": "markdown",
   "id": "405946a4-2645-4cc3-9a38-4871eea26ab2",
   "metadata": {},
   "source": [
    "This plot shows us that Film & Video, Music, Publishing are the three most popular Kickstarter categories, while Food, Fashion and Theater are the three least common. "
   ]
  },
  {
   "cell_type": "markdown",
   "id": "f18a4aee-a808-4a2e-ae95-6c8c919ea7e5",
   "metadata": {},
   "source": [
    "Let’s explore which goal values appear most often. This will help us identify any odd entries or common default values."
   ]
  },
  {
   "cell_type": "code",
   "execution_count": 141,
   "id": "99b7d249-df56-4e53-b62b-1e57cf941ac7",
   "metadata": {},
   "outputs": [
    {
     "data": {
      "image/png": "[encoded data removed]",
      "text/plain": [
       "<Figure size 500x300 with 1 Axes>"
      ]
     },
     "metadata": {},
     "output_type": "display_data"
    }
   ],
   "source": [
    "df['goal'].value_counts().head(10).plot.bar()\n",
    "plt.title(\"Most common goal amounts\")\n",
    "plt.xlabel(\"goal\")\n",
    "plt.ylabel(\"count\")\n",
    "plt.show()"
   ]
  },
  {
   "cell_type": "markdown",
   "id": "6ae9dcef-b061-4fa4-810e-73b527c99f30",
   "metadata": {},
   "source": [
    "We are able to see that the most common goal amounts are round numbers like 5000, 1000, and 10000."
   ]
  },
  {
   "cell_type": "markdown",
   "id": "983e46a4-bb0c-4f4e-bd30-10c0bd9abae4",
   "metadata": {},
   "source": [
    "## Preprocessing /Data Cleaning"
   ]
  },
  {
   "cell_type": "markdown",
   "id": "a2109db5-6418-4002-b2eb-fde1f7cfbf27",
   "metadata": {},
   "source": [
    "#### Before applying any machine learning models, we need to clean and prepare the data. "
   ]
  },
  {
   "cell_type": "markdown",
   "id": "70bc83c9-07ef-4603-834a-becd73023817",
   "metadata": {},
   "source": [
    "Here we are removing irrelevant columns that contain no useful information. "
   ]
  },
  {
   "cell_type": "code",
   "execution_count": 152,
   "id": "20aad55f",
   "metadata": {},
   "outputs": [
    {
     "ename": "KeyError",
     "evalue": "\"['Unnamed: 13', 'Unnamed: 14', 'Unnamed: 15', 'Unnamed: 16'] not found in axis\"",
     "output_type": "error",
     "traceback": [
      "\u001b[0;31m---------------------------------------------------------------------------\u001b[0m",
      "\u001b[0;31mKeyError\u001b[0m                                  Traceback (most recent call last)",
      "Cell \u001b[0;32mIn[152], line 1\u001b[0m\n\u001b[0;32m----> 1\u001b[0m df \u001b[38;5;241m=\u001b[39m df\u001b[38;5;241m.\u001b[39mdrop(columns\u001b[38;5;241m=\u001b[39m[\u001b[38;5;124m\"\u001b[39m\u001b[38;5;124mUnnamed: 13\u001b[39m\u001b[38;5;124m\"\u001b[39m, \u001b[38;5;124m\"\u001b[39m\u001b[38;5;124mUnnamed: 14\u001b[39m\u001b[38;5;124m\"\u001b[39m, \u001b[38;5;124m\"\u001b[39m\u001b[38;5;124mUnnamed: 15\u001b[39m\u001b[38;5;124m\"\u001b[39m, \u001b[38;5;124m\"\u001b[39m\u001b[38;5;124mUnnamed: 16\u001b[39m\u001b[38;5;124m\"\u001b[39m])\n",
      "File \u001b[0;32m/opt/anaconda3/lib/python3.12/site-packages/pandas/core/frame.py:5581\u001b[0m, in \u001b[0;36mDataFrame.drop\u001b[0;34m(self, labels, axis, index, columns, level, inplace, errors)\u001b[0m\n\u001b[1;32m   5433\u001b[0m \u001b[38;5;28;01mdef\u001b[39;00m \u001b[38;5;21mdrop\u001b[39m(\n\u001b[1;32m   5434\u001b[0m     \u001b[38;5;28mself\u001b[39m,\n\u001b[1;32m   5435\u001b[0m     labels: IndexLabel \u001b[38;5;241m|\u001b[39m \u001b[38;5;28;01mNone\u001b[39;00m \u001b[38;5;241m=\u001b[39m \u001b[38;5;28;01mNone\u001b[39;00m,\n\u001b[0;32m   (...)\u001b[0m\n\u001b[1;32m   5442\u001b[0m     errors: IgnoreRaise \u001b[38;5;241m=\u001b[39m \u001b[38;5;124m\"\u001b[39m\u001b[38;5;124mraise\u001b[39m\u001b[38;5;124m\"\u001b[39m,\n\u001b[1;32m   5443\u001b[0m ) \u001b[38;5;241m-\u001b[39m\u001b[38;5;241m>\u001b[39m DataFrame \u001b[38;5;241m|\u001b[39m \u001b[38;5;28;01mNone\u001b[39;00m:\n\u001b[1;32m   5444\u001b[0m \u001b[38;5;250m    \u001b[39m\u001b[38;5;124;03m\"\"\"\u001b[39;00m\n\u001b[1;32m   5445\u001b[0m \u001b[38;5;124;03m    Drop specified labels from rows or columns.\u001b[39;00m\n\u001b[1;32m   5446\u001b[0m \n\u001b[0;32m   (...)\u001b[0m\n\u001b[1;32m   5579\u001b[0m \u001b[38;5;124;03m            weight  1.0     0.8\u001b[39;00m\n\u001b[1;32m   5580\u001b[0m \u001b[38;5;124;03m    \"\"\"\u001b[39;00m\n\u001b[0;32m-> 5581\u001b[0m     \u001b[38;5;28;01mreturn\u001b[39;00m \u001b[38;5;28msuper\u001b[39m()\u001b[38;5;241m.\u001b[39mdrop(\n\u001b[1;32m   5582\u001b[0m         labels\u001b[38;5;241m=\u001b[39mlabels,\n\u001b[1;32m   5583\u001b[0m         axis\u001b[38;5;241m=\u001b[39maxis,\n\u001b[1;32m   5584\u001b[0m         index\u001b[38;5;241m=\u001b[39mindex,\n\u001b[1;32m   5585\u001b[0m         columns\u001b[38;5;241m=\u001b[39mcolumns,\n\u001b[1;32m   5586\u001b[0m         level\u001b[38;5;241m=\u001b[39mlevel,\n\u001b[1;32m   5587\u001b[0m         inplace\u001b[38;5;241m=\u001b[39minplace,\n\u001b[1;32m   5588\u001b[0m         errors\u001b[38;5;241m=\u001b[39merrors,\n\u001b[1;32m   5589\u001b[0m     )\n",
      "File \u001b[0;32m/opt/anaconda3/lib/python3.12/site-packages/pandas/core/generic.py:4788\u001b[0m, in \u001b[0;36mNDFrame.drop\u001b[0;34m(self, labels, axis, index, columns, level, inplace, errors)\u001b[0m\n\u001b[1;32m   4786\u001b[0m \u001b[38;5;28;01mfor\u001b[39;00m axis, labels \u001b[38;5;129;01min\u001b[39;00m axes\u001b[38;5;241m.\u001b[39mitems():\n\u001b[1;32m   4787\u001b[0m     \u001b[38;5;28;01mif\u001b[39;00m labels \u001b[38;5;129;01mis\u001b[39;00m \u001b[38;5;129;01mnot\u001b[39;00m \u001b[38;5;28;01mNone\u001b[39;00m:\n\u001b[0;32m-> 4788\u001b[0m         obj \u001b[38;5;241m=\u001b[39m obj\u001b[38;5;241m.\u001b[39m_drop_axis(labels, axis, level\u001b[38;5;241m=\u001b[39mlevel, errors\u001b[38;5;241m=\u001b[39merrors)\n\u001b[1;32m   4790\u001b[0m \u001b[38;5;28;01mif\u001b[39;00m inplace:\n\u001b[1;32m   4791\u001b[0m     \u001b[38;5;28mself\u001b[39m\u001b[38;5;241m.\u001b[39m_update_inplace(obj)\n",
      "File \u001b[0;32m/opt/anaconda3/lib/python3.12/site-packages/pandas/core/generic.py:4830\u001b[0m, in \u001b[0;36mNDFrame._drop_axis\u001b[0;34m(self, labels, axis, level, errors, only_slice)\u001b[0m\n\u001b[1;32m   4828\u001b[0m         new_axis \u001b[38;5;241m=\u001b[39m axis\u001b[38;5;241m.\u001b[39mdrop(labels, level\u001b[38;5;241m=\u001b[39mlevel, errors\u001b[38;5;241m=\u001b[39merrors)\n\u001b[1;32m   4829\u001b[0m     \u001b[38;5;28;01melse\u001b[39;00m:\n\u001b[0;32m-> 4830\u001b[0m         new_axis \u001b[38;5;241m=\u001b[39m axis\u001b[38;5;241m.\u001b[39mdrop(labels, errors\u001b[38;5;241m=\u001b[39merrors)\n\u001b[1;32m   4831\u001b[0m     indexer \u001b[38;5;241m=\u001b[39m axis\u001b[38;5;241m.\u001b[39mget_indexer(new_axis)\n\u001b[1;32m   4833\u001b[0m \u001b[38;5;66;03m# Case for non-unique axis\u001b[39;00m\n\u001b[1;32m   4834\u001b[0m \u001b[38;5;28;01melse\u001b[39;00m:\n",
      "File \u001b[0;32m/opt/anaconda3/lib/python3.12/site-packages/pandas/core/indexes/base.py:7070\u001b[0m, in \u001b[0;36mIndex.drop\u001b[0;34m(self, labels, errors)\u001b[0m\n\u001b[1;32m   7068\u001b[0m \u001b[38;5;28;01mif\u001b[39;00m mask\u001b[38;5;241m.\u001b[39many():\n\u001b[1;32m   7069\u001b[0m     \u001b[38;5;28;01mif\u001b[39;00m errors \u001b[38;5;241m!=\u001b[39m \u001b[38;5;124m\"\u001b[39m\u001b[38;5;124mignore\u001b[39m\u001b[38;5;124m\"\u001b[39m:\n\u001b[0;32m-> 7070\u001b[0m         \u001b[38;5;28;01mraise\u001b[39;00m \u001b[38;5;167;01mKeyError\u001b[39;00m(\u001b[38;5;124mf\u001b[39m\u001b[38;5;124m\"\u001b[39m\u001b[38;5;132;01m{\u001b[39;00mlabels[mask]\u001b[38;5;241m.\u001b[39mtolist()\u001b[38;5;132;01m}\u001b[39;00m\u001b[38;5;124m not found in axis\u001b[39m\u001b[38;5;124m\"\u001b[39m)\n\u001b[1;32m   7071\u001b[0m     indexer \u001b[38;5;241m=\u001b[39m indexer[\u001b[38;5;241m~\u001b[39mmask]\n\u001b[1;32m   7072\u001b[0m \u001b[38;5;28;01mreturn\u001b[39;00m \u001b[38;5;28mself\u001b[39m\u001b[38;5;241m.\u001b[39mdelete(indexer)\n",
      "\u001b[0;31mKeyError\u001b[0m: \"['Unnamed: 13', 'Unnamed: 14', 'Unnamed: 15', 'Unnamed: 16'] not found in axis\""
     ]
    }
   ],
   "source": [
    "df = df.drop(columns=[\"Unnamed: 13\", \"Unnamed: 14\", \"Unnamed: 15\", \"Unnamed: 16\"])"
   ]
  },
  {
   "cell_type": "code",
   "execution_count": 154,
   "id": "fb1b2d70",
   "metadata": {},
   "outputs": [
    {
     "ename": "ValueError",
     "evalue": "a must be greater than 0 unless no samples are taken",
     "output_type": "error",
     "traceback": [
      "\u001b[0;31m---------------------------------------------------------------------------\u001b[0m",
      "\u001b[0;31mValueError\u001b[0m                                Traceback (most recent call last)",
      "Cell \u001b[0;32mIn[154], line 1\u001b[0m\n\u001b[0;32m----> 1\u001b[0m df[df\u001b[38;5;241m.\u001b[39misnull()\u001b[38;5;241m.\u001b[39many(axis\u001b[38;5;241m=\u001b[39m\u001b[38;5;241m1\u001b[39m)]\u001b[38;5;241m.\u001b[39msample(\u001b[38;5;241m5\u001b[39m)\n",
      "File \u001b[0;32m/opt/anaconda3/lib/python3.12/site-packages/pandas/core/generic.py:6118\u001b[0m, in \u001b[0;36mNDFrame.sample\u001b[0;34m(self, n, frac, replace, weights, random_state, axis, ignore_index)\u001b[0m\n\u001b[1;32m   6115\u001b[0m \u001b[38;5;28;01mif\u001b[39;00m weights \u001b[38;5;129;01mis\u001b[39;00m \u001b[38;5;129;01mnot\u001b[39;00m \u001b[38;5;28;01mNone\u001b[39;00m:\n\u001b[1;32m   6116\u001b[0m     weights \u001b[38;5;241m=\u001b[39m sample\u001b[38;5;241m.\u001b[39mpreprocess_weights(\u001b[38;5;28mself\u001b[39m, weights, axis)\n\u001b[0;32m-> 6118\u001b[0m sampled_indices \u001b[38;5;241m=\u001b[39m sample\u001b[38;5;241m.\u001b[39msample(obj_len, size, replace, weights, rs)\n\u001b[1;32m   6119\u001b[0m result \u001b[38;5;241m=\u001b[39m \u001b[38;5;28mself\u001b[39m\u001b[38;5;241m.\u001b[39mtake(sampled_indices, axis\u001b[38;5;241m=\u001b[39maxis)\n\u001b[1;32m   6121\u001b[0m \u001b[38;5;28;01mif\u001b[39;00m ignore_index:\n",
      "File \u001b[0;32m/opt/anaconda3/lib/python3.12/site-packages/pandas/core/sample.py:152\u001b[0m, in \u001b[0;36msample\u001b[0;34m(obj_len, size, replace, weights, random_state)\u001b[0m\n\u001b[1;32m    149\u001b[0m     \u001b[38;5;28;01melse\u001b[39;00m:\n\u001b[1;32m    150\u001b[0m         \u001b[38;5;28;01mraise\u001b[39;00m \u001b[38;5;167;01mValueError\u001b[39;00m(\u001b[38;5;124m\"\u001b[39m\u001b[38;5;124mInvalid weights: weights sum to zero\u001b[39m\u001b[38;5;124m\"\u001b[39m)\n\u001b[0;32m--> 152\u001b[0m \u001b[38;5;28;01mreturn\u001b[39;00m random_state\u001b[38;5;241m.\u001b[39mchoice(obj_len, size\u001b[38;5;241m=\u001b[39msize, replace\u001b[38;5;241m=\u001b[39mreplace, p\u001b[38;5;241m=\u001b[39mweights)\u001b[38;5;241m.\u001b[39mastype(\n\u001b[1;32m    153\u001b[0m     np\u001b[38;5;241m.\u001b[39mintp, copy\u001b[38;5;241m=\u001b[39m\u001b[38;5;28;01mFalse\u001b[39;00m\n\u001b[1;32m    154\u001b[0m )\n",
      "File \u001b[0;32mnumpy/random/mtrand.pyx:945\u001b[0m, in \u001b[0;36mnumpy.random.mtrand.RandomState.choice\u001b[0;34m()\u001b[0m\n",
      "\u001b[0;31mValueError\u001b[0m: a must be greater than 0 unless no samples are taken"
     ]
    }
   ],
   "source": [
    "df[df.isnull().any(axis=1)].sample(5)"
   ]
  },
  {
   "cell_type": "markdown",
   "id": "ae8627bc-9ada-40aa-865f-16565492c74c",
   "metadata": {},
   "source": [
    "Keep only rows where 'state' is one of the target outcomes"
   ]
  },
  {
   "cell_type": "code",
   "execution_count": null,
   "id": "64196cab",
   "metadata": {},
   "outputs": [],
   "source": [
    "df = df[df['state'].isin([\"successful\", \"failed\", \"canceled\"])]"
   ]
  },
  {
   "cell_type": "code",
   "execution_count": null,
   "id": "d7a1e1d1",
   "metadata": {
    "scrolled": true
   },
   "outputs": [],
   "source": [
    "print(\"Rows still with null values: \", len(df[df.isnull().any(axis=1)]))\n",
    "df[df.isnull().any(axis=1)].sample(5)"
   ]
  },
  {
   "cell_type": "markdown",
   "id": "7664962b-c4a0-4552-8b19-0082361c9089",
   "metadata": {},
   "source": [
    "It seems the vast majority of Kickstarter campaigns with null values fall under the Music and Film categories, often with zero backers. The campaign states vary, which likely reflects that creating music or films isn’t strongly tied to financial backing (there’s probably a joke in there somewhere).\n",
    "\n",
    "Since these projects lack key information like backer count or country and only account for 127 rows, we’ll remove them from the dataset."
   ]
  },
  {
   "cell_type": "code",
   "execution_count": null,
   "id": "e2b55760",
   "metadata": {},
   "outputs": [],
   "source": [
    "df = df.dropna()\n",
    "len(df[df.isnull().any(axis=1)]) # checking\n",
    "df.info() # Current state"
   ]
  },
  {
   "cell_type": "markdown",
   "id": "b236ff73-910b-466a-8477-83e41a39221d",
   "metadata": {},
   "source": [
    "Convert 'goal' column to numeric, remove any rows where conversion fails"
   ]
  },
  {
   "cell_type": "code",
   "execution_count": null,
   "id": "d1fcb0ab",
   "metadata": {
    "scrolled": true
   },
   "outputs": [],
   "source": [
    "df['goal'] = pd.to_numeric(df['goal'], errors='coerce').astype(int)\n",
    "df.dropna(subset=['goal'], inplace=True)\n",
    "print(df['goal'])"
   ]
  },
  {
   "cell_type": "markdown",
   "id": "39df96a4-ea99-45b1-97e1-919a01bf7d3e",
   "metadata": {},
   "source": [
    "Keep only US campaigns"
   ]
  },
  {
   "cell_type": "code",
   "execution_count": 128,
   "id": "8ff0f4e7-657f-4830-8deb-d58331aac0bf",
   "metadata": {},
   "outputs": [],
   "source": [
    "#Dropping all rows outside the US\n",
    "df = df[df['country'] == 'US']"
   ]
  }
 ],
 "metadata": {
  "jupytext": {
   "formats": "ipynb,py:percent"
  },
  "kernelspec": {
   "display_name": "Python [conda env:base] *",
   "language": "python",
   "name": "conda-base-py"
  },
  "language_info": {
   "codemirror_mode": {
    "name": "ipython",
    "version": 3
   },
   "file_extension": ".py",
   "mimetype": "text/x-python",
   "name": "python",
   "nbconvert_exporter": "python",
   "pygments_lexer": "ipython3",
   "version": "3.12.7"
  }
 },
 "nbformat": 4,
 "nbformat_minor": 5
}
