{
 "cells": [
  {
   "cell_type": "markdown",
   "id": "74311715-4288-40c4-a5c6-3ac13502535b",
   "metadata": {},
   "source": [
    "# CST 383 – Intro to Data Science\n",
    "### Project 2: Predicting Kickstarter Goal Completion\n",
    "**Authors:** Brianna Magallon, Tyler Pruitt, Rafael L.S. Reis"
   ]
  },
  {
   "cell_type": "markdown",
   "id": "3b2abba3-2cd9-4a21-813e-fd78cb95fe0f",
   "metadata": {},
   "source": [
    "## Introduction\n",
    "In this project, we use the Kickstarter Projects dataset to build a model that predicts whether a crowdfunding campaign will succeed or fail based on information available at launch. Each entry includes metadata such as goal amount, number of backers, campaign duration, and category.\n",
    "\n",
    "We treat this as a binary classification problem, where the outcomes are `'successful'` or `'failed'`. We merge `'canceled'` campaigns into the `'failed'` category, based on the observation that they typically don't meet funding goals.\n",
    "\n",
    "**Dataset Source:**  \n",
    "[Kickstarter Projects (Kaggle)](https://www.kaggle.com/datasets/kemical/kickstarter-projects)"
   ]
  },
  {
   "cell_type": "code",
   "execution_count": 4,
   "id": "a7ada490-50ed-49cf-99eb-e767383a42a9",
   "metadata": {},
   "outputs": [],
   "source": [
    "import warnings\n",
    "import pandas as pd\n",
    "import seaborn as sns\n",
    "import matplotlib.pyplot as plt\n",
    "from sklearn.model_selection import train_test_split\n",
    "from sklearn.dummy import DummyClassifier\n",
    "from sklearn.linear_model import LogisticRegression\n",
    "from sklearn.neighbors import KNeighborsClassifier\n",
    "from sklearn.metrics import accuracy_score, classification_report\n",
    "from sklearn.metrics import ConfusionMatrixDisplay"
   ]
  },
  {
   "cell_type": "code",
   "execution_count": 5,
   "id": "a5df41d9-1efa-4332-8516-966ae178cede",
   "metadata": {},
   "outputs": [],
   "source": [
    "sns.set_theme(style='whitegrid', context='notebook')\n",
    "plt.rcParams['figure.figsize'] = 5,3"
   ]
  },
  {
   "cell_type": "markdown",
   "id": "4af77e08-130d-44c9-9590-dc50fb5a6ce0",
   "metadata": {},
   "source": [
    "## Data Exploration"
   ]
  },
  {
   "cell_type": "code",
   "execution_count": 7,
   "id": "e9eb5270-0a9f-4d67-807e-f389e7df1d3c",
   "metadata": {},
   "outputs": [],
   "source": [
    "df = pd.read_csv(\"ks-projects-201612.csv\", encoding=\"cp1252\", low_memory=False)"
   ]
  },
  {
   "cell_type": "code",
   "execution_count": 8,
   "id": "8548f04a-2c7c-4cbc-9e9e-809ccdaae018",
   "metadata": {
    "scrolled": true
   },
   "outputs": [
    {
     "data": {
      "text/html": [
       "<div>\n",
       "<style scoped>\n",
       "    .dataframe tbody tr th:only-of-type {\n",
       "        vertical-align: middle;\n",
       "    }\n",
       "\n",
       "    .dataframe tbody tr th {\n",
       "        vertical-align: top;\n",
       "    }\n",
       "\n",
       "    .dataframe thead th {\n",
       "        text-align: right;\n",
       "    }\n",
       "</style>\n",
       "<table border=\"1\" class=\"dataframe\">\n",
       "  <thead>\n",
       "    <tr style=\"text-align: right;\">\n",
       "      <th></th>\n",
       "      <th>ID</th>\n",
       "      <th>name</th>\n",
       "      <th>category</th>\n",
       "      <th>main_category</th>\n",
       "      <th>currency</th>\n",
       "      <th>deadline</th>\n",
       "      <th>goal</th>\n",
       "      <th>launched</th>\n",
       "      <th>pledged</th>\n",
       "      <th>state</th>\n",
       "      <th>backers</th>\n",
       "      <th>country</th>\n",
       "      <th>usd pledged</th>\n",
       "      <th>Unnamed: 13</th>\n",
       "      <th>Unnamed: 14</th>\n",
       "      <th>Unnamed: 15</th>\n",
       "      <th>Unnamed: 16</th>\n",
       "    </tr>\n",
       "  </thead>\n",
       "  <tbody>\n",
       "    <tr>\n",
       "      <th>192232</th>\n",
       "      <td>2144372163</td>\n",
       "      <td>Groundsman 3000</td>\n",
       "      <td>Product Design</td>\n",
       "      <td>Design</td>\n",
       "      <td>USD</td>\n",
       "      <td>2015-03-20 17:47:42</td>\n",
       "      <td>40000</td>\n",
       "      <td>2015-01-19 18:47:42</td>\n",
       "      <td>7</td>\n",
       "      <td>failed</td>\n",
       "      <td>1</td>\n",
       "      <td>US</td>\n",
       "      <td>7</td>\n",
       "      <td>NaN</td>\n",
       "      <td>NaN</td>\n",
       "      <td>NaN</td>\n",
       "      <td>NaN</td>\n",
       "    </tr>\n",
       "    <tr>\n",
       "      <th>241113</th>\n",
       "      <td>503417724</td>\n",
       "      <td>Dream Jumpers (Canceled)</td>\n",
       "      <td>Video Games</td>\n",
       "      <td>Games</td>\n",
       "      <td>USD</td>\n",
       "      <td>2013-05-08 02:55:00</td>\n",
       "      <td>15000</td>\n",
       "      <td>2013-04-09 00:41:59</td>\n",
       "      <td>6511.87</td>\n",
       "      <td>canceled</td>\n",
       "      <td>138</td>\n",
       "      <td>US</td>\n",
       "      <td>6511.87</td>\n",
       "      <td>NaN</td>\n",
       "      <td>NaN</td>\n",
       "      <td>NaN</td>\n",
       "      <td>NaN</td>\n",
       "    </tr>\n",
       "    <tr>\n",
       "      <th>307002</th>\n",
       "      <td>899368006</td>\n",
       "      <td>Carbon Key Organizer (Pocket Tool) - Tidy up y...</td>\n",
       "      <td>Product Design</td>\n",
       "      <td>Design</td>\n",
       "      <td>EUR</td>\n",
       "      <td>2016-05-01 22:12:56</td>\n",
       "      <td>1000</td>\n",
       "      <td>2016-04-01 22:12:56</td>\n",
       "      <td>1688</td>\n",
       "      <td>successful</td>\n",
       "      <td>55</td>\n",
       "      <td>DE</td>\n",
       "      <td>1910.60886552</td>\n",
       "      <td>NaN</td>\n",
       "      <td>NaN</td>\n",
       "      <td>NaN</td>\n",
       "      <td>NaN</td>\n",
       "    </tr>\n",
       "    <tr>\n",
       "      <th>226129</th>\n",
       "      <td>413812349</td>\n",
       "      <td>SnappyNips</td>\n",
       "      <td>Product Design</td>\n",
       "      <td>Design</td>\n",
       "      <td>USD</td>\n",
       "      <td>2014-08-30 16:36:07</td>\n",
       "      <td>5000</td>\n",
       "      <td>2014-07-17 16:36:07</td>\n",
       "      <td>422</td>\n",
       "      <td>failed</td>\n",
       "      <td>17</td>\n",
       "      <td>US</td>\n",
       "      <td>422</td>\n",
       "      <td>NaN</td>\n",
       "      <td>NaN</td>\n",
       "      <td>NaN</td>\n",
       "      <td>NaN</td>\n",
       "    </tr>\n",
       "    <tr>\n",
       "      <th>302317</th>\n",
       "      <td>870988530</td>\n",
       "      <td>Una Mujer Para La Historia (Canceled)</td>\n",
       "      <td>Documentary</td>\n",
       "      <td>Film &amp; Video</td>\n",
       "      <td>USD</td>\n",
       "      <td>2015-08-26 17:25:07</td>\n",
       "      <td>5000</td>\n",
       "      <td>2015-07-27 17:25:07</td>\n",
       "      <td>0</td>\n",
       "      <td>canceled</td>\n",
       "      <td>0</td>\n",
       "      <td>US</td>\n",
       "      <td>0</td>\n",
       "      <td>NaN</td>\n",
       "      <td>NaN</td>\n",
       "      <td>NaN</td>\n",
       "      <td>NaN</td>\n",
       "    </tr>\n",
       "  </tbody>\n",
       "</table>\n",
       "</div>"
      ],
      "text/plain": [
       "                ID                                               name  \\\n",
       "192232  2144372163                                    Groundsman 3000   \n",
       "241113   503417724                           Dream Jumpers (Canceled)   \n",
       "307002   899368006  Carbon Key Organizer (Pocket Tool) - Tidy up y...   \n",
       "226129   413812349                                         SnappyNips   \n",
       "302317   870988530              Una Mujer Para La Historia (Canceled)   \n",
       "\n",
       "              category main_category currency             deadline   goal  \\\n",
       "192232  Product Design        Design      USD  2015-03-20 17:47:42  40000   \n",
       "241113     Video Games         Games      USD  2013-05-08 02:55:00  15000   \n",
       "307002  Product Design        Design      EUR  2016-05-01 22:12:56   1000   \n",
       "226129  Product Design        Design      USD  2014-08-30 16:36:07   5000   \n",
       "302317     Documentary  Film & Video      USD  2015-08-26 17:25:07   5000   \n",
       "\n",
       "                   launched  pledged       state backers country  \\\n",
       "192232  2015-01-19 18:47:42        7      failed       1      US   \n",
       "241113  2013-04-09 00:41:59  6511.87    canceled     138      US   \n",
       "307002  2016-04-01 22:12:56     1688  successful      55      DE   \n",
       "226129  2014-07-17 16:36:07      422      failed      17      US   \n",
       "302317  2015-07-27 17:25:07        0    canceled       0      US   \n",
       "\n",
       "          usd pledged Unnamed: 13 Unnamed: 14 Unnamed: 15  Unnamed: 16  \n",
       "192232              7         NaN         NaN         NaN          NaN  \n",
       "241113        6511.87         NaN         NaN         NaN          NaN  \n",
       "307002  1910.60886552         NaN         NaN         NaN          NaN  \n",
       "226129            422         NaN         NaN         NaN          NaN  \n",
       "302317              0         NaN         NaN         NaN          NaN  "
      ]
     },
     "execution_count": 8,
     "metadata": {},
     "output_type": "execute_result"
    }
   ],
   "source": [
    "df.columns = df.columns.str.strip()\n",
    "df.sample(5)"
   ]
  },
  {
   "cell_type": "code",
   "execution_count": 9,
   "id": "bf6a2a5b-a615-41c6-910c-d9d18c15ad98",
   "metadata": {
    "scrolled": true
   },
   "outputs": [
    {
     "name": "stdout",
     "output_type": "stream",
     "text": [
      "<class 'pandas.core.frame.DataFrame'>\n",
      "RangeIndex: 323751 entries, 0 to 323750\n",
      "Data columns (total 17 columns):\n",
      " #   Column         Non-Null Count   Dtype  \n",
      "---  ------         --------------   -----  \n",
      " 0   ID             323751 non-null  object \n",
      " 1   name           323747 non-null  object \n",
      " 2   category       323745 non-null  object \n",
      " 3   main_category  323750 non-null  object \n",
      " 4   currency       323750 non-null  object \n",
      " 5   deadline       323750 non-null  object \n",
      " 6   goal           323750 non-null  object \n",
      " 7   launched       323750 non-null  object \n",
      " 8   pledged        323750 non-null  object \n",
      " 9   state          323750 non-null  object \n",
      " 10  backers        323750 non-null  object \n",
      " 11  country        323750 non-null  object \n",
      " 12  usd pledged    319959 non-null  object \n",
      " 13  Unnamed: 13    625 non-null     object \n",
      " 14  Unnamed: 14    12 non-null      object \n",
      " 15  Unnamed: 15    4 non-null       object \n",
      " 16  Unnamed: 16    1 non-null       float64\n",
      "dtypes: float64(1), object(16)\n",
      "memory usage: 42.0+ MB\n"
     ]
    }
   ],
   "source": [
    "df.info()"
   ]
  },
  {
   "cell_type": "code",
   "execution_count": 10,
   "id": "f8b439c3-efa8-43a7-bb1f-c939f0f8bd00",
   "metadata": {},
   "outputs": [
    {
     "data": {
      "text/plain": [
       "state\n",
       "failed        168220\n",
       "successful    113081\n",
       "canceled       32354\n",
       "live            4428\n",
       "undefined       3555\n",
       "               ...  \n",
       "2312               1\n",
       "320                1\n",
       "477                1\n",
       "1404               1\n",
       "2634               1\n",
       "Name: count, Length: 410, dtype: int64"
      ]
     },
     "execution_count": 10,
     "metadata": {},
     "output_type": "execute_result"
    }
   ],
   "source": [
    "df['state'].value_counts()"
   ]
  },
  {
   "cell_type": "code",
   "execution_count": 11,
   "id": "81e5aee9-f2c7-4888-ac26-62e95616c27d",
   "metadata": {},
   "outputs": [
    {
     "data": {
      "text/html": [
       "<div>\n",
       "<style scoped>\n",
       "    .dataframe tbody tr th:only-of-type {\n",
       "        vertical-align: middle;\n",
       "    }\n",
       "\n",
       "    .dataframe tbody tr th {\n",
       "        vertical-align: top;\n",
       "    }\n",
       "\n",
       "    .dataframe thead th {\n",
       "        text-align: right;\n",
       "    }\n",
       "</style>\n",
       "<table border=\"1\" class=\"dataframe\">\n",
       "  <thead>\n",
       "    <tr style=\"text-align: right;\">\n",
       "      <th></th>\n",
       "      <th>ID</th>\n",
       "      <th>name</th>\n",
       "      <th>category</th>\n",
       "      <th>main_category</th>\n",
       "      <th>currency</th>\n",
       "      <th>deadline</th>\n",
       "      <th>goal</th>\n",
       "      <th>launched</th>\n",
       "      <th>pledged</th>\n",
       "      <th>state</th>\n",
       "      <th>backers</th>\n",
       "      <th>country</th>\n",
       "      <th>usd pledged</th>\n",
       "      <th>Unnamed: 13</th>\n",
       "      <th>Unnamed: 14</th>\n",
       "      <th>Unnamed: 15</th>\n",
       "      <th>Unnamed: 16</th>\n",
       "    </tr>\n",
       "  </thead>\n",
       "  <tbody>\n",
       "    <tr>\n",
       "      <th>3</th>\n",
       "      <td>1000011046</td>\n",
       "      <td>Community Film Project: The Art of Neighborhoo...</td>\n",
       "      <td>Film &amp; Video</td>\n",
       "      <td>Film &amp; Video</td>\n",
       "      <td>USD</td>\n",
       "      <td>2015-08-29 01:00:00</td>\n",
       "      <td>19500</td>\n",
       "      <td>2015-07-04 08:35:03</td>\n",
       "      <td>1283</td>\n",
       "      <td>canceled</td>\n",
       "      <td>14</td>\n",
       "      <td>US</td>\n",
       "      <td>1283</td>\n",
       "      <td>NaN</td>\n",
       "      <td>NaN</td>\n",
       "      <td>NaN</td>\n",
       "      <td>NaN</td>\n",
       "    </tr>\n",
       "    <tr>\n",
       "      <th>7</th>\n",
       "      <td>1000034518</td>\n",
       "      <td>SPIN - Premium Retractable In-Ear Headphones w...</td>\n",
       "      <td>Product Design</td>\n",
       "      <td>Design</td>\n",
       "      <td>USD</td>\n",
       "      <td>2014-05-29 18:14:43</td>\n",
       "      <td>125000</td>\n",
       "      <td>2014-04-24 18:14:43</td>\n",
       "      <td>8233</td>\n",
       "      <td>canceled</td>\n",
       "      <td>58</td>\n",
       "      <td>US</td>\n",
       "      <td>8233</td>\n",
       "      <td>NaN</td>\n",
       "      <td>NaN</td>\n",
       "      <td>NaN</td>\n",
       "      <td>NaN</td>\n",
       "    </tr>\n",
       "    <tr>\n",
       "      <th>8</th>\n",
       "      <td>100004195</td>\n",
       "      <td>STUDIO IN THE SKY - A Documentary Feature Film...</td>\n",
       "      <td>Documentary</td>\n",
       "      <td>Film &amp; Video</td>\n",
       "      <td>USD</td>\n",
       "      <td>2014-08-10 21:55:48</td>\n",
       "      <td>65000</td>\n",
       "      <td>2014-07-11 21:55:48</td>\n",
       "      <td>6240.57</td>\n",
       "      <td>canceled</td>\n",
       "      <td>43</td>\n",
       "      <td>US</td>\n",
       "      <td>6240.57</td>\n",
       "      <td>NaN</td>\n",
       "      <td>NaN</td>\n",
       "      <td>NaN</td>\n",
       "      <td>NaN</td>\n",
       "    </tr>\n",
       "    <tr>\n",
       "      <th>59</th>\n",
       "      <td>1000256760</td>\n",
       "      <td>Raise the Woof, expanding the love (Canceled)</td>\n",
       "      <td>Design</td>\n",
       "      <td>Design</td>\n",
       "      <td>CAD</td>\n",
       "      <td>2015-08-07 21:46:53</td>\n",
       "      <td>15000</td>\n",
       "      <td>2015-07-08 21:46:53</td>\n",
       "      <td>700</td>\n",
       "      <td>canceled</td>\n",
       "      <td>6</td>\n",
       "      <td>CA</td>\n",
       "      <td>553.324254</td>\n",
       "      <td>NaN</td>\n",
       "      <td>NaN</td>\n",
       "      <td>NaN</td>\n",
       "      <td>NaN</td>\n",
       "    </tr>\n",
       "    <tr>\n",
       "      <th>61</th>\n",
       "      <td>1000260691</td>\n",
       "      <td>Gizbee  Unlimited Removable Storage for Your T...</td>\n",
       "      <td>Gadgets</td>\n",
       "      <td>Technology</td>\n",
       "      <td>USD</td>\n",
       "      <td>2016-03-25 19:30:27</td>\n",
       "      <td>87000</td>\n",
       "      <td>2016-02-29 20:30:27</td>\n",
       "      <td>2030</td>\n",
       "      <td>canceled</td>\n",
       "      <td>15</td>\n",
       "      <td>US</td>\n",
       "      <td>2030</td>\n",
       "      <td>NaN</td>\n",
       "      <td>NaN</td>\n",
       "      <td>NaN</td>\n",
       "      <td>NaN</td>\n",
       "    </tr>\n",
       "  </tbody>\n",
       "</table>\n",
       "</div>"
      ],
      "text/plain": [
       "            ID                                               name  \\\n",
       "3   1000011046  Community Film Project: The Art of Neighborhoo...   \n",
       "7   1000034518  SPIN - Premium Retractable In-Ear Headphones w...   \n",
       "8    100004195  STUDIO IN THE SKY - A Documentary Feature Film...   \n",
       "59  1000256760      Raise the Woof, expanding the love (Canceled)   \n",
       "61  1000260691  Gizbee  Unlimited Removable Storage for Your T...   \n",
       "\n",
       "          category main_category currency             deadline    goal  \\\n",
       "3     Film & Video  Film & Video      USD  2015-08-29 01:00:00   19500   \n",
       "7   Product Design        Design      USD  2014-05-29 18:14:43  125000   \n",
       "8      Documentary  Film & Video      USD  2014-08-10 21:55:48   65000   \n",
       "59          Design        Design      CAD  2015-08-07 21:46:53   15000   \n",
       "61         Gadgets    Technology      USD  2016-03-25 19:30:27   87000   \n",
       "\n",
       "               launched  pledged     state backers country usd pledged  \\\n",
       "3   2015-07-04 08:35:03     1283  canceled      14      US        1283   \n",
       "7   2014-04-24 18:14:43     8233  canceled      58      US        8233   \n",
       "8   2014-07-11 21:55:48  6240.57  canceled      43      US     6240.57   \n",
       "59  2015-07-08 21:46:53      700  canceled       6      CA  553.324254   \n",
       "61  2016-02-29 20:30:27     2030  canceled      15      US        2030   \n",
       "\n",
       "   Unnamed: 13 Unnamed: 14 Unnamed: 15  Unnamed: 16  \n",
       "3          NaN         NaN         NaN          NaN  \n",
       "7          NaN         NaN         NaN          NaN  \n",
       "8          NaN         NaN         NaN          NaN  \n",
       "59         NaN         NaN         NaN          NaN  \n",
       "61         NaN         NaN         NaN          NaN  "
      ]
     },
     "execution_count": 11,
     "metadata": {},
     "output_type": "execute_result"
    }
   ],
   "source": [
    "df[df['state'] == \"canceled\"].head()"
   ]
  },
  {
   "cell_type": "code",
   "execution_count": 12,
   "id": "a0cee829-fe12-4b82-b1a9-254b3f2c70dd",
   "metadata": {},
   "outputs": [
    {
     "data": {
      "text/plain": [
       "country\n",
       "US      257564\n",
       "GB       27509\n",
       "CA       11992\n",
       "AU        6236\n",
       "N,\"0      3790\n",
       "         ...  \n",
       "582          1\n",
       "26           1\n",
       "27           1\n",
       "136          1\n",
       "176          1\n",
       "Name: count, Length: 162, dtype: int64"
      ]
     },
     "execution_count": 12,
     "metadata": {},
     "output_type": "execute_result"
    }
   ],
   "source": [
    "df['country'].value_counts()"
   ]
  },
  {
   "cell_type": "code",
   "execution_count": 13,
   "id": "65ad09da-56d1-4f57-a242-9add6b1236ad",
   "metadata": {},
   "outputs": [],
   "source": [
    "dftest = df[df['country'] == 'US']\n",
    "dftest = dftest.drop(columns=[\"Unnamed: 13\", \"Unnamed: 14\", \"Unnamed: 15\", \"Unnamed: 16\"])"
   ]
  },
  {
   "cell_type": "code",
   "execution_count": 14,
   "id": "420c7056-ab7e-4404-b3fd-f60e49ad6aaa",
   "metadata": {},
   "outputs": [
    {
     "data": {
      "text/plain": [
       "category\n",
       "Product Design    13410\n",
       "Documentary       12864\n",
       "Music             10288\n",
       "Shorts            10009\n",
       "Food               9013\n",
       "                  ...  \n",
       "Weaving              45\n",
       "Residencies          34\n",
       "Letterpress          28\n",
       "Chiptune             23\n",
       "Taxidermy             6\n",
       "Name: count, Length: 158, dtype: int64"
      ]
     },
     "execution_count": 14,
     "metadata": {},
     "output_type": "execute_result"
    }
   ],
   "source": [
    "dftest['category'].value_counts()"
   ]
  },
  {
   "cell_type": "code",
   "execution_count": 15,
   "id": "86b0d8bd-13a1-463e-a932-ace93e51841c",
   "metadata": {},
   "outputs": [
    {
     "data": {
      "text/plain": [
       "main_category\n",
       "Film & Video    48086\n",
       "Music           39517\n",
       "Publishing      27972\n",
       "Games           20392\n",
       "Art             19640\n",
       "Design          18106\n",
       "Technology      17913\n",
       "Food            17479\n",
       "Fashion         13943\n",
       "Theater          8138\n",
       "Comics           7392\n",
       "Photography      7389\n",
       "Crafts           5570\n",
       "Journalism       3092\n",
       "Dance            2935\n",
       "Name: count, dtype: int64"
      ]
     },
     "execution_count": 15,
     "metadata": {},
     "output_type": "execute_result"
    }
   ],
   "source": [
    "dftest['main_category'].value_counts()"
   ]
  },
  {
   "cell_type": "code",
   "execution_count": 16,
   "id": "ba501279-17cb-4478-8984-50a9411b2bdc",
   "metadata": {},
   "outputs": [
    {
     "data": {
      "image/png": "[encoded data removed]",
      "text/plain": [
       "<Figure size 500x300 with 1 Axes>"
      ]
     },
     "metadata": {},
     "output_type": "display_data"
    }
   ],
   "source": [
    "state_counts = df['state'].value_counts().head(10)\n",
    "state_counts.plot.bar()\n",
    "plt.title('Distribution of campaign outcomes')\n",
    "plt.xlabel('state')\n",
    "plt.ylabel('count')\n",
    "plt.show()"
   ]
  },
  {
   "cell_type": "code",
   "execution_count": 17,
   "id": "f526f7df-5bb7-45f8-95c8-6217cdfd76d3",
   "metadata": {},
   "outputs": [
    {
     "data": {
      "image/png": "[encoded data removed]",
      "text/plain": [
       "<Figure size 500x300 with 1 Axes>"
      ]
     },
     "metadata": {},
     "output_type": "display_data"
    }
   ],
   "source": [
    "df['main_category'].value_counts().head(10).plot.bar()\n",
    "plt.title(\"Number of campaigns per main category\")\n",
    "plt.xlabel(\"main category \")\n",
    "plt.ylabel(\"count\")\n",
    "plt.show()"
   ]
  },
  {
   "cell_type": "markdown",
   "id": "8cac4ae0",
   "metadata": {},
   "source": [
    "## Data Cleaning & Preprocessing\n",
    "\n",
    "We begin cleaning by dropping empty or irrelevant columns and filtering to U.S.-based projects."
   ]
  },
  {
   "cell_type": "code",
   "execution_count": 19,
   "id": "20aad55f",
   "metadata": {},
   "outputs": [],
   "source": [
    "df = df.drop(columns=[\"Unnamed: 13\", \"Unnamed: 14\", \"Unnamed: 15\", \"Unnamed: 16\"])"
   ]
  },
  {
   "cell_type": "code",
   "execution_count": 20,
   "id": "fb1b2d70",
   "metadata": {},
   "outputs": [
    {
     "data": {
      "text/html": [
       "<div>\n",
       "<style scoped>\n",
       "    .dataframe tbody tr th:only-of-type {\n",
       "        vertical-align: middle;\n",
       "    }\n",
       "\n",
       "    .dataframe tbody tr th {\n",
       "        vertical-align: top;\n",
       "    }\n",
       "\n",
       "    .dataframe thead th {\n",
       "        text-align: right;\n",
       "    }\n",
       "</style>\n",
       "<table border=\"1\" class=\"dataframe\">\n",
       "  <thead>\n",
       "    <tr style=\"text-align: right;\">\n",
       "      <th></th>\n",
       "      <th>ID</th>\n",
       "      <th>name</th>\n",
       "      <th>category</th>\n",
       "      <th>main_category</th>\n",
       "      <th>currency</th>\n",
       "      <th>deadline</th>\n",
       "      <th>goal</th>\n",
       "      <th>launched</th>\n",
       "      <th>pledged</th>\n",
       "      <th>state</th>\n",
       "      <th>backers</th>\n",
       "      <th>country</th>\n",
       "      <th>usd pledged</th>\n",
       "    </tr>\n",
       "  </thead>\n",
       "  <tbody>\n",
       "    <tr>\n",
       "      <th>106741</th>\n",
       "      <td>1633729107</td>\n",
       "      <td>| Edgarville | Debut Album &amp; European Tour |</td>\n",
       "      <td>Music</td>\n",
       "      <td>Music</td>\n",
       "      <td>GBP</td>\n",
       "      <td>2015-06-30 13:54:19</td>\n",
       "      <td>3000</td>\n",
       "      <td>2015-05-21 13:54:19</td>\n",
       "      <td>3402.66</td>\n",
       "      <td>undefined</td>\n",
       "      <td>0</td>\n",
       "      <td>N,\"0</td>\n",
       "      <td>NaN</td>\n",
       "    </tr>\n",
       "    <tr>\n",
       "      <th>259916</th>\n",
       "      <td>616575285</td>\n",
       "      <td>Boardwalk Quartet Recording - Hard Travelin' (...</td>\n",
       "      <td>Music</td>\n",
       "      <td>Music</td>\n",
       "      <td>USD</td>\n",
       "      <td>2016-01-30 03:11:43</td>\n",
       "      <td>5500</td>\n",
       "      <td>2015-12-16 03:11:43</td>\n",
       "      <td>7001.37</td>\n",
       "      <td>undefined</td>\n",
       "      <td>0</td>\n",
       "      <td>N,\"0</td>\n",
       "      <td>NaN</td>\n",
       "    </tr>\n",
       "    <tr>\n",
       "      <th>106461</th>\n",
       "      <td>1632195318</td>\n",
       "      <td>Miserable Breen Coley</td>\n",
       "      <td>Film &amp; Video</td>\n",
       "      <td>Film &amp; Video</td>\n",
       "      <td>GBP</td>\n",
       "      <td>2015-02-28 00:59:00</td>\n",
       "      <td>850</td>\n",
       "      <td>2015-02-11 20:06:33</td>\n",
       "      <td>869</td>\n",
       "      <td>undefined</td>\n",
       "      <td>0</td>\n",
       "      <td>N,\"0</td>\n",
       "      <td>NaN</td>\n",
       "    </tr>\n",
       "    <tr>\n",
       "      <th>159937</th>\n",
       "      <td>1951449650</td>\n",
       "      <td>Jim Shaffer  EP Production \"Broken\"</td>\n",
       "      <td>Music</td>\n",
       "      <td>Music</td>\n",
       "      <td>USD</td>\n",
       "      <td>2015-12-28 00:43:00</td>\n",
       "      <td>1050</td>\n",
       "      <td>2015-12-08 04:28:35</td>\n",
       "      <td>1076</td>\n",
       "      <td>undefined</td>\n",
       "      <td>0</td>\n",
       "      <td>N,\"0</td>\n",
       "      <td>NaN</td>\n",
       "    </tr>\n",
       "    <tr>\n",
       "      <th>239435</th>\n",
       "      <td>493422145</td>\n",
       "      <td>Elemental journey, oder besser ein Lebenstraum</td>\n",
       "      <td>Publishing</td>\n",
       "      <td>Publishing</td>\n",
       "      <td>EUR</td>\n",
       "      <td>2015-10-08 23:11:15</td>\n",
       "      <td>1000</td>\n",
       "      <td>2015-09-08 23:11:15</td>\n",
       "      <td>10</td>\n",
       "      <td>undefined</td>\n",
       "      <td>0</td>\n",
       "      <td>N,\"0</td>\n",
       "      <td>NaN</td>\n",
       "    </tr>\n",
       "  </tbody>\n",
       "</table>\n",
       "</div>"
      ],
      "text/plain": [
       "                ID                                               name  \\\n",
       "106741  1633729107       | Edgarville | Debut Album & European Tour |   \n",
       "259916   616575285  Boardwalk Quartet Recording - Hard Travelin' (...   \n",
       "106461  1632195318                              Miserable Breen Coley   \n",
       "159937  1951449650                Jim Shaffer  EP Production \"Broken\"   \n",
       "239435   493422145     Elemental journey, oder besser ein Lebenstraum   \n",
       "\n",
       "            category main_category currency             deadline  goal  \\\n",
       "106741         Music         Music      GBP  2015-06-30 13:54:19  3000   \n",
       "259916         Music         Music      USD  2016-01-30 03:11:43  5500   \n",
       "106461  Film & Video  Film & Video      GBP  2015-02-28 00:59:00   850   \n",
       "159937         Music         Music      USD  2015-12-28 00:43:00  1050   \n",
       "239435    Publishing    Publishing      EUR  2015-10-08 23:11:15  1000   \n",
       "\n",
       "                   launched  pledged      state backers country usd pledged  \n",
       "106741  2015-05-21 13:54:19  3402.66  undefined       0    N,\"0         NaN  \n",
       "259916  2015-12-16 03:11:43  7001.37  undefined       0    N,\"0         NaN  \n",
       "106461  2015-02-11 20:06:33      869  undefined       0    N,\"0         NaN  \n",
       "159937  2015-12-08 04:28:35     1076  undefined       0    N,\"0         NaN  \n",
       "239435  2015-09-08 23:11:15       10  undefined       0    N,\"0         NaN  "
      ]
     },
     "execution_count": 20,
     "metadata": {},
     "output_type": "execute_result"
    }
   ],
   "source": [
    "df[df.isnull().any(axis=1)].sample(5)"
   ]
  },
  {
   "cell_type": "code",
   "execution_count": 21,
   "id": "64196cab",
   "metadata": {},
   "outputs": [],
   "source": [
    "df = df[df['state'].isin([\"successful\", \"failed\", \"canceled\"])]"
   ]
  },
  {
   "cell_type": "code",
   "execution_count": 22,
   "id": "d7a1e1d1",
   "metadata": {},
   "outputs": [
    {
     "name": "stdout",
     "output_type": "stream",
     "text": [
      "Rows still with null values:  235\n"
     ]
    },
    {
     "data": {
      "text/html": [
       "<div>\n",
       "<style scoped>\n",
       "    .dataframe tbody tr th:only-of-type {\n",
       "        vertical-align: middle;\n",
       "    }\n",
       "\n",
       "    .dataframe tbody tr th {\n",
       "        vertical-align: top;\n",
       "    }\n",
       "\n",
       "    .dataframe thead th {\n",
       "        text-align: right;\n",
       "    }\n",
       "</style>\n",
       "<table border=\"1\" class=\"dataframe\">\n",
       "  <thead>\n",
       "    <tr style=\"text-align: right;\">\n",
       "      <th></th>\n",
       "      <th>ID</th>\n",
       "      <th>name</th>\n",
       "      <th>category</th>\n",
       "      <th>main_category</th>\n",
       "      <th>currency</th>\n",
       "      <th>deadline</th>\n",
       "      <th>goal</th>\n",
       "      <th>launched</th>\n",
       "      <th>pledged</th>\n",
       "      <th>state</th>\n",
       "      <th>backers</th>\n",
       "      <th>country</th>\n",
       "      <th>usd pledged</th>\n",
       "    </tr>\n",
       "  </thead>\n",
       "  <tbody>\n",
       "    <tr>\n",
       "      <th>58884</th>\n",
       "      <td>1349873935</td>\n",
       "      <td>Something Wild Film Festival</td>\n",
       "      <td>Film &amp; Video</td>\n",
       "      <td>Film &amp; Video</td>\n",
       "      <td>USD</td>\n",
       "      <td>2016-05-18 00:41:06</td>\n",
       "      <td>1500</td>\n",
       "      <td>2016-04-13 00:41:06</td>\n",
       "      <td>1500</td>\n",
       "      <td>successful</td>\n",
       "      <td>0</td>\n",
       "      <td>N,\"0</td>\n",
       "      <td>NaN</td>\n",
       "    </tr>\n",
       "    <tr>\n",
       "      <th>20695</th>\n",
       "      <td>1122231399</td>\n",
       "      <td>Fill Your Empty Practice!</td>\n",
       "      <td>Publishing</td>\n",
       "      <td>Publishing</td>\n",
       "      <td>GBP</td>\n",
       "      <td>2016-05-17 16:16:23</td>\n",
       "      <td>2000</td>\n",
       "      <td>2016-04-17 16:16:23</td>\n",
       "      <td>392</td>\n",
       "      <td>failed</td>\n",
       "      <td>0</td>\n",
       "      <td>N,\"0</td>\n",
       "      <td>NaN</td>\n",
       "    </tr>\n",
       "    <tr>\n",
       "      <th>210852</th>\n",
       "      <td>322932750</td>\n",
       "      <td>Fists of Fury</td>\n",
       "      <td>Film &amp; Video</td>\n",
       "      <td>Film &amp; Video</td>\n",
       "      <td>USD</td>\n",
       "      <td>2016-05-05 02:35:09</td>\n",
       "      <td>2250</td>\n",
       "      <td>2016-04-05 02:35:09</td>\n",
       "      <td>2251</td>\n",
       "      <td>successful</td>\n",
       "      <td>0</td>\n",
       "      <td>N,\"0</td>\n",
       "      <td>NaN</td>\n",
       "    </tr>\n",
       "    <tr>\n",
       "      <th>143998</th>\n",
       "      <td>1855588242</td>\n",
       "      <td>Glesga Mayhem</td>\n",
       "      <td>Film &amp; Video</td>\n",
       "      <td>Film &amp; Video</td>\n",
       "      <td>GBP</td>\n",
       "      <td>2016-05-06 01:34:22</td>\n",
       "      <td>5500</td>\n",
       "      <td>2016-04-06 01:34:22</td>\n",
       "      <td>2</td>\n",
       "      <td>failed</td>\n",
       "      <td>0</td>\n",
       "      <td>N,\"0</td>\n",
       "      <td>NaN</td>\n",
       "    </tr>\n",
       "    <tr>\n",
       "      <th>142710</th>\n",
       "      <td>1848039193</td>\n",
       "      <td>The UGA Accidentals' Sound Operating System</td>\n",
       "      <td>Music</td>\n",
       "      <td>Music</td>\n",
       "      <td>USD</td>\n",
       "      <td>2016-05-12 05:59:00</td>\n",
       "      <td>8000</td>\n",
       "      <td>2016-04-11 02:27:04</td>\n",
       "      <td>1051</td>\n",
       "      <td>failed</td>\n",
       "      <td>0</td>\n",
       "      <td>N,\"0</td>\n",
       "      <td>NaN</td>\n",
       "    </tr>\n",
       "  </tbody>\n",
       "</table>\n",
       "</div>"
      ],
      "text/plain": [
       "                ID                                         name      category  \\\n",
       "58884   1349873935                 Something Wild Film Festival  Film & Video   \n",
       "20695   1122231399                    Fill Your Empty Practice!    Publishing   \n",
       "210852   322932750                                Fists of Fury  Film & Video   \n",
       "143998  1855588242                                Glesga Mayhem  Film & Video   \n",
       "142710  1848039193  The UGA Accidentals' Sound Operating System         Music   \n",
       "\n",
       "       main_category currency             deadline  goal             launched  \\\n",
       "58884   Film & Video      USD  2016-05-18 00:41:06  1500  2016-04-13 00:41:06   \n",
       "20695     Publishing      GBP  2016-05-17 16:16:23  2000  2016-04-17 16:16:23   \n",
       "210852  Film & Video      USD  2016-05-05 02:35:09  2250  2016-04-05 02:35:09   \n",
       "143998  Film & Video      GBP  2016-05-06 01:34:22  5500  2016-04-06 01:34:22   \n",
       "142710         Music      USD  2016-05-12 05:59:00  8000  2016-04-11 02:27:04   \n",
       "\n",
       "       pledged       state backers country usd pledged  \n",
       "58884     1500  successful       0    N,\"0         NaN  \n",
       "20695      392      failed       0    N,\"0         NaN  \n",
       "210852    2251  successful       0    N,\"0         NaN  \n",
       "143998       2      failed       0    N,\"0         NaN  \n",
       "142710    1051      failed       0    N,\"0         NaN  "
      ]
     },
     "execution_count": 22,
     "metadata": {},
     "output_type": "execute_result"
    }
   ],
   "source": [
    "print(\"Rows still with null values: \", len(df[df.isnull().any(axis=1)]))\n",
    "df[df.isnull().any(axis=1)].sample(5)"
   ]
  },
  {
   "cell_type": "markdown",
   "id": "7664962b-c4a0-4552-8b19-0082361c9089",
   "metadata": {},
   "source": [
    "The majority of rows with null values are music or film projects with 0 backers and questionable labels. There's probably a starving artist joke somewhere in there. These rows are minimal (~127), so we drop them."
   ]
  },
  {
   "cell_type": "code",
   "execution_count": 24,
   "id": "e2b55760",
   "metadata": {},
   "outputs": [
    {
     "name": "stdout",
     "output_type": "stream",
     "text": [
      "<class 'pandas.core.frame.DataFrame'>\n",
      "Index: 313420 entries, 0 to 323750\n",
      "Data columns (total 13 columns):\n",
      " #   Column         Non-Null Count   Dtype \n",
      "---  ------         --------------   ----- \n",
      " 0   ID             313420 non-null  object\n",
      " 1   name           313420 non-null  object\n",
      " 2   category       313420 non-null  object\n",
      " 3   main_category  313420 non-null  object\n",
      " 4   currency       313420 non-null  object\n",
      " 5   deadline       313420 non-null  object\n",
      " 6   goal           313420 non-null  object\n",
      " 7   launched       313420 non-null  object\n",
      " 8   pledged        313420 non-null  object\n",
      " 9   state          313420 non-null  object\n",
      " 10  backers        313420 non-null  object\n",
      " 11  country        313420 non-null  object\n",
      " 12  usd pledged    313420 non-null  object\n",
      "dtypes: object(13)\n",
      "memory usage: 33.5+ MB\n"
     ]
    }
   ],
   "source": [
    "df = df.dropna()\n",
    "len(df[df.isnull().any(axis=1)])  # confirm\n",
    "df.info()"
   ]
  },
  {
   "cell_type": "code",
   "execution_count": 25,
   "id": "7ab041fd-58eb-412f-8b48-80a5f6a18cf9",
   "metadata": {},
   "outputs": [
    {
     "name": "stdout",
     "output_type": "stream",
     "text": [
      "<class 'pandas.core.series.Series'>\n",
      "Index: 313420 entries, 0 to 323750\n",
      "Series name: backers\n",
      "Non-Null Count   Dtype \n",
      "--------------   ----- \n",
      "313420 non-null  object\n",
      "dtypes: object(1)\n",
      "memory usage: 4.8+ MB\n"
     ]
    }
   ],
   "source": [
    "df['backers'].info()"
   ]
  },
  {
   "cell_type": "markdown",
   "id": "c1c6c316-f8fc-45c3-8aba-abab6e6316a1",
   "metadata": {},
   "source": [
    "We now correct numeric fields and focus on U.S. projects. Some columns have numeric values stored as strings, so we convert them. This helps avoid bugs later."
   ]
  },
  {
   "cell_type": "code",
   "execution_count": 27,
   "id": "d1fcb0ab",
   "metadata": {},
   "outputs": [
    {
     "name": "stdout",
     "output_type": "stream",
     "text": [
      "0          1000\n",
      "1         45000\n",
      "2          5000\n",
      "3         19500\n",
      "4         50000\n",
      "          ...  \n",
      "323746    50000\n",
      "323747     1500\n",
      "323748    15000\n",
      "323749    15000\n",
      "323750     2000\n",
      "Name: goal, Length: 313420, dtype: int32\n"
     ]
    }
   ],
   "source": [
    "df['goal'] = pd.to_numeric(df['goal'], errors='coerce').astype(int)\n",
    "df.dropna(subset=['goal'], inplace=True)\n",
    "print(df['goal'])"
   ]
  },
  {
   "cell_type": "code",
   "execution_count": 28,
   "id": "59388a1a",
   "metadata": {},
   "outputs": [],
   "source": [
    "df = df[df['country'] == 'US']\n",
    "df = df.drop(columns=[\"usd pledged\"])"
   ]
  },
  {
   "cell_type": "markdown",
   "id": "cea53398-c7c3-416e-819d-c75cf705fda7",
   "metadata": {},
   "source": [
    "We convert string dates to datetime, compute duration, and encode labels for our classification model. We also merge `canceled` with `failed`, since both don't meet funding goals — canceled ones just end early."
   ]
  },
  {
   "cell_type": "code",
   "execution_count": 30,
   "id": "8ff0f4e7-657f-4830-8deb-d58331aac0bf",
   "metadata": {},
   "outputs": [],
   "source": [
    "df['launched'] = pd.to_datetime(df['launched'])\n",
    "df['deadline'] = pd.to_datetime(df['deadline'])\n",
    "df['duration_days'] = (df['deadline'] - df['launched']).dt.days\n",
    "\n",
    "df['state'] = df['state'].replace('canceled', 'failed')\n",
    "df = df[df['state'].isin(['failed', 'successful'])].copy()\n",
    "df['state_encoded'] = df['state'].map({'failed': 1, 'successful': 0})\n",
    "\n",
    "numeric_cols = ['goal', 'pledged', 'backers', 'pledged']\n",
    "for col in numeric_cols:\n",
    "    df[col] = pd.to_numeric(df[col], errors='coerce')\n",
    "\n",
    "df['launch_day'] = df['launched'].dt.day\n",
    "df['launch_month'] = df['launched'].dt.month\n",
    "\n",
    "df = df.drop(columns=['ID', 'launched', 'deadline', 'state', 'country', 'currency', 'pledged'])"
   ]
  },
  {
   "cell_type": "markdown",
   "id": "7b7c6de9-0dda-4a8c-80c1-6ac27d756924",
   "metadata": {},
   "source": [
    "We are dropping these columns for a variey of reasons. In the case of ID, country, and currency. The contained information is not necessary for predictions as we are focusing on projects in the US, which all use the same currency. We are replacing state with \"state_encoded\" making the original unecessary. Finally, pledged isn't helpful for the sake of prediction due to the fact that it directly tells the end result, making it useless for the sake of predicting the result."
   ]
  },
  {
   "cell_type": "code",
   "execution_count": 32,
   "id": "bef3b068-1dfc-41ef-bf87-03bc48068b6d",
   "metadata": {
    "scrolled": true
   },
   "outputs": [
    {
     "name": "stdout",
     "output_type": "stream",
     "text": [
      "<class 'pandas.core.frame.DataFrame'>\n",
      "Index: 253851 entries, 1 to 323750\n",
      "Data columns (total 9 columns):\n",
      " #   Column         Non-Null Count   Dtype \n",
      "---  ------         --------------   ----- \n",
      " 0   name           253851 non-null  object\n",
      " 1   category       253851 non-null  object\n",
      " 2   main_category  253851 non-null  object\n",
      " 3   goal           253851 non-null  int32 \n",
      " 4   backers        253851 non-null  int64 \n",
      " 5   duration_days  253851 non-null  int64 \n",
      " 6   state_encoded  253851 non-null  int64 \n",
      " 7   launch_day     253851 non-null  int32 \n",
      " 8   launch_month   253851 non-null  int32 \n",
      "dtypes: int32(3), int64(3), object(3)\n",
      "memory usage: 16.5+ MB\n"
     ]
    }
   ],
   "source": [
    "df.info()"
   ]
  },
  {
   "cell_type": "code",
   "execution_count": 33,
   "id": "5b877de1-deb8-4df8-9e8c-df061d7cca2a",
   "metadata": {},
   "outputs": [
    {
     "data": {
      "text/html": [
       "<div>\n",
       "<style scoped>\n",
       "    .dataframe tbody tr th:only-of-type {\n",
       "        vertical-align: middle;\n",
       "    }\n",
       "\n",
       "    .dataframe tbody tr th {\n",
       "        vertical-align: top;\n",
       "    }\n",
       "\n",
       "    .dataframe thead th {\n",
       "        text-align: right;\n",
       "    }\n",
       "</style>\n",
       "<table border=\"1\" class=\"dataframe\">\n",
       "  <thead>\n",
       "    <tr style=\"text-align: right;\">\n",
       "      <th></th>\n",
       "      <th>name</th>\n",
       "      <th>category</th>\n",
       "      <th>main_category</th>\n",
       "      <th>goal</th>\n",
       "      <th>backers</th>\n",
       "      <th>duration_days</th>\n",
       "      <th>state_encoded</th>\n",
       "      <th>launch_day</th>\n",
       "      <th>launch_month</th>\n",
       "    </tr>\n",
       "  </thead>\n",
       "  <tbody>\n",
       "    <tr>\n",
       "      <th>172163</th>\n",
       "      <td>WHOLE WHEAT BREAD NEW ALBUM</td>\n",
       "      <td>Music</td>\n",
       "      <td>Music</td>\n",
       "      <td>10000</td>\n",
       "      <td>110</td>\n",
       "      <td>36</td>\n",
       "      <td>1</td>\n",
       "      <td>25</td>\n",
       "      <td>9</td>\n",
       "    </tr>\n",
       "    <tr>\n",
       "      <th>46334</th>\n",
       "      <td>It Came From Above: The Joplin, Mo Tornado</td>\n",
       "      <td>Documentary</td>\n",
       "      <td>Film &amp; Video</td>\n",
       "      <td>8000</td>\n",
       "      <td>74</td>\n",
       "      <td>59</td>\n",
       "      <td>0</td>\n",
       "      <td>30</td>\n",
       "      <td>8</td>\n",
       "    </tr>\n",
       "    <tr>\n",
       "      <th>209816</th>\n",
       "      <td>Big Dipper Music Video</td>\n",
       "      <td>Film &amp; Video</td>\n",
       "      <td>Film &amp; Video</td>\n",
       "      <td>850</td>\n",
       "      <td>40</td>\n",
       "      <td>18</td>\n",
       "      <td>0</td>\n",
       "      <td>12</td>\n",
       "      <td>7</td>\n",
       "    </tr>\n",
       "    <tr>\n",
       "      <th>293239</th>\n",
       "      <td>Super Sessions II: Women Surfing Huge Waves</td>\n",
       "      <td>Film &amp; Video</td>\n",
       "      <td>Film &amp; Video</td>\n",
       "      <td>150000</td>\n",
       "      <td>81</td>\n",
       "      <td>29</td>\n",
       "      <td>1</td>\n",
       "      <td>18</td>\n",
       "      <td>11</td>\n",
       "    </tr>\n",
       "    <tr>\n",
       "      <th>313283</th>\n",
       "      <td>The Professor: Tai Chi's Journey West</td>\n",
       "      <td>Documentary</td>\n",
       "      <td>Film &amp; Video</td>\n",
       "      <td>23000</td>\n",
       "      <td>358</td>\n",
       "      <td>30</td>\n",
       "      <td>0</td>\n",
       "      <td>21</td>\n",
       "      <td>11</td>\n",
       "    </tr>\n",
       "  </tbody>\n",
       "</table>\n",
       "</div>"
      ],
      "text/plain": [
       "                                               name      category  \\\n",
       "172163                  WHOLE WHEAT BREAD NEW ALBUM         Music   \n",
       "46334    It Came From Above: The Joplin, Mo Tornado   Documentary   \n",
       "209816                       Big Dipper Music Video  Film & Video   \n",
       "293239  Super Sessions II: Women Surfing Huge Waves  Film & Video   \n",
       "313283        The Professor: Tai Chi's Journey West   Documentary   \n",
       "\n",
       "       main_category    goal  backers  duration_days  state_encoded  \\\n",
       "172163         Music   10000      110             36              1   \n",
       "46334   Film & Video    8000       74             59              0   \n",
       "209816  Film & Video     850       40             18              0   \n",
       "293239  Film & Video  150000       81             29              1   \n",
       "313283  Film & Video   23000      358             30              0   \n",
       "\n",
       "        launch_day  launch_month  \n",
       "172163          25             9  \n",
       "46334           30             8  \n",
       "209816          12             7  \n",
       "293239          18            11  \n",
       "313283          21            11  "
      ]
     },
     "execution_count": 33,
     "metadata": {},
     "output_type": "execute_result"
    }
   ],
   "source": [
    "df.sample(5)"
   ]
  },
  {
   "cell_type": "markdown",
   "id": "4754090d-6e90-41cb-9fc0-d3de97538f6b",
   "metadata": {},
   "source": [
    "## Machine Learning\n",
    "\n",
    "We define our features and target, then apply a baseline and two models. We'll compare their performance to understand how well basic models do on this problem."
   ]
  },
  {
   "cell_type": "code",
   "execution_count": 35,
   "id": "7654a5c2",
   "metadata": {},
   "outputs": [
    {
     "name": "stdout",
     "output_type": "stream",
     "text": [
      "Baseline accuracy: 0.6240964330030924\n",
      "Logistic Regression accuracy: 0.8999034882117745\n",
      "              precision    recall  f1-score   support\n",
      "\n",
      "           0       0.92      0.80      0.86     19085\n",
      "           1       0.89      0.96      0.92     31686\n",
      "\n",
      "    accuracy                           0.90     50771\n",
      "   macro avg       0.91      0.88      0.89     50771\n",
      "weighted avg       0.90      0.90      0.90     50771\n",
      "\n",
      "KNN accuracy: 0.9180240688582064\n",
      "              precision    recall  f1-score   support\n",
      "\n",
      "           0       0.89      0.90      0.89     19085\n",
      "           1       0.94      0.93      0.93     31686\n",
      "\n",
      "    accuracy                           0.92     50771\n",
      "   macro avg       0.91      0.91      0.91     50771\n",
      "weighted avg       0.92      0.92      0.92     50771\n",
      "\n"
     ]
    }
   ],
   "source": [
    "X = df[['goal', 'backers', 'duration_days']]\n",
    "y = df['state_encoded']\n",
    "\n",
    "X_train, X_test, y_train, y_test = train_test_split(X, y, test_size=0.2, random_state=42)\n",
    "\n",
    "baseline = DummyClassifier(strategy='most_frequent')\n",
    "baseline.fit(X_train, y_train)\n",
    "y_pred_baseline = baseline.predict(X_test)\n",
    "print(\"Baseline accuracy:\", accuracy_score(y_test, y_pred_baseline))\n",
    "\n",
    "logreg = LogisticRegression(max_iter=1000)\n",
    "logreg.fit(X_train, y_train)\n",
    "y_pred_logreg = logreg.predict(X_test)\n",
    "print(\"Logistic Regression accuracy:\", accuracy_score(y_test, y_pred_logreg))\n",
    "print(classification_report(y_test, y_pred_logreg))\n",
    "\n",
    "knn = KNeighborsClassifier(n_neighbors=5)\n",
    "knn.fit(X_train, y_train)\n",
    "y_pred_knn = knn.predict(X_test)\n",
    "print(\"KNN accuracy:\", accuracy_score(y_test, y_pred_knn))\n",
    "print(classification_report(y_test, y_pred_knn))"
   ]
  },
  {
   "cell_type": "markdown",
   "id": "2d6193e4-a3ba-4376-954a-77115c9be761",
   "metadata": {},
   "source": [
    "Both models beat the baseline, but KNN appears to be overfitting. More work is needed to improve generalization."
   ]
  },
  {
   "cell_type": "code",
   "execution_count": 37,
   "id": "6100870d-06d2-4682-ab3a-bb7b2e7731f3",
   "metadata": {},
   "outputs": [
    {
     "data": {
      "image/png": "[encoded data removed]",
      "text/plain": [
       "<Figure size 500x300 with 2 Axes>"
      ]
     },
     "metadata": {},
     "output_type": "display_data"
    },
    {
     "data": {
      "image/png": "[encoded data removed]",
      "text/plain": [
       "<Figure size 500x300 with 2 Axes>"
      ]
     },
     "metadata": {},
     "output_type": "display_data"
    }
   ],
   "source": [
    "ConfusionMatrixDisplay.from_estimator(logreg, X_test, y_test)\n",
    "plt.title(\"Logistic Regression - Confusion Matrix\")\n",
    "plt.show()\n",
    "\n",
    "ConfusionMatrixDisplay.from_estimator(knn, X_test, y_test)\n",
    "plt.title(\"KNN - Confusion Matrix\")\n",
    "plt.show()"
   ]
  },
  {
   "cell_type": "code",
   "execution_count": 38,
   "id": "5ee97224-e313-44f5-bd12-0081c5b4c181",
   "metadata": {},
   "outputs": [
    {
     "data": {
      "image/png": "[encoded data removed]",
      "text/plain": [
       "<Figure size 500x300 with 1 Axes>"
      ]
     },
     "metadata": {},
     "output_type": "display_data"
    }
   ],
   "source": [
    "coeffs = pd.Series(logreg.coef_[0], index=X.columns)\n",
    "coeffs.sort_values().plot(kind='barh')\n",
    "plt.title(\"Logistic Regression Feature Coefficients\")\n",
    "plt.xlabel(\"Impact on 'Failure' Probability\")\n",
    "plt.show()"
   ]
  },
  {
   "cell_type": "markdown",
   "id": "b84f36ba-65d0-4bd3-b651-b47f5efbf48f",
   "metadata": {},
   "source": [
    "The feature coefficients are helpful for interpretation. Backers and pledged amount seem to be the strongest predictors."
   ]
  },
  {
   "cell_type": "code",
   "execution_count": 40,
   "id": "b82920c3-7e01-446b-ad57-e05b7c80f938",
   "metadata": {},
   "outputs": [
    {
     "data": {
      "text/html": [
       "<div>\n",
       "<style scoped>\n",
       "    .dataframe tbody tr th:only-of-type {\n",
       "        vertical-align: middle;\n",
       "    }\n",
       "\n",
       "    .dataframe tbody tr th {\n",
       "        vertical-align: top;\n",
       "    }\n",
       "\n",
       "    .dataframe thead th {\n",
       "        text-align: right;\n",
       "    }\n",
       "</style>\n",
       "<table border=\"1\" class=\"dataframe\">\n",
       "  <thead>\n",
       "    <tr style=\"text-align: right;\">\n",
       "      <th></th>\n",
       "      <th>name</th>\n",
       "      <th>category</th>\n",
       "      <th>main_category</th>\n",
       "      <th>goal</th>\n",
       "      <th>duration_days</th>\n",
       "      <th>state_encoded</th>\n",
       "      <th>launch_day</th>\n",
       "      <th>launch_month</th>\n",
       "    </tr>\n",
       "  </thead>\n",
       "  <tbody>\n",
       "    <tr>\n",
       "      <th>195695</th>\n",
       "      <td>Exclusive Surgeries Network, LLC</td>\n",
       "      <td>Web</td>\n",
       "      <td>Technology</td>\n",
       "      <td>350000</td>\n",
       "      <td>37</td>\n",
       "      <td>1</td>\n",
       "      <td>24</td>\n",
       "      <td>9</td>\n",
       "    </tr>\n",
       "    <tr>\n",
       "      <th>55123</th>\n",
       "      <td>The Czar's Nano Brewery -Bringing Imperials to...</td>\n",
       "      <td>Drinks</td>\n",
       "      <td>Food</td>\n",
       "      <td>10000</td>\n",
       "      <td>30</td>\n",
       "      <td>1</td>\n",
       "      <td>22</td>\n",
       "      <td>7</td>\n",
       "    </tr>\n",
       "    <tr>\n",
       "      <th>25757</th>\n",
       "      <td>Live Sound in a Digital Age</td>\n",
       "      <td>Nonfiction</td>\n",
       "      <td>Publishing</td>\n",
       "      <td>6000</td>\n",
       "      <td>30</td>\n",
       "      <td>1</td>\n",
       "      <td>23</td>\n",
       "      <td>1</td>\n",
       "    </tr>\n",
       "    <tr>\n",
       "      <th>97585</th>\n",
       "      <td>Police Officer Simulator</td>\n",
       "      <td>Video Games</td>\n",
       "      <td>Games</td>\n",
       "      <td>3000</td>\n",
       "      <td>30</td>\n",
       "      <td>1</td>\n",
       "      <td>26</td>\n",
       "      <td>1</td>\n",
       "    </tr>\n",
       "    <tr>\n",
       "      <th>46689</th>\n",
       "      <td>The Everyday Adventure Bag - KP Sling</td>\n",
       "      <td>Product Design</td>\n",
       "      <td>Design</td>\n",
       "      <td>12500</td>\n",
       "      <td>45</td>\n",
       "      <td>0</td>\n",
       "      <td>14</td>\n",
       "      <td>7</td>\n",
       "    </tr>\n",
       "  </tbody>\n",
       "</table>\n",
       "</div>"
      ],
      "text/plain": [
       "                                                     name        category  \\\n",
       "195695                   Exclusive Surgeries Network, LLC             Web   \n",
       "55123   The Czar's Nano Brewery -Bringing Imperials to...          Drinks   \n",
       "25757                         Live Sound in a Digital Age      Nonfiction   \n",
       "97585                            Police Officer Simulator     Video Games   \n",
       "46689               The Everyday Adventure Bag - KP Sling  Product Design   \n",
       "\n",
       "       main_category    goal  duration_days  state_encoded  launch_day  \\\n",
       "195695    Technology  350000             37              1          24   \n",
       "55123           Food   10000             30              1          22   \n",
       "25757     Publishing    6000             30              1          23   \n",
       "97585          Games    3000             30              1          26   \n",
       "46689         Design   12500             45              0          14   \n",
       "\n",
       "        launch_month  \n",
       "195695             9  \n",
       "55123              7  \n",
       "25757              1  \n",
       "97585              1  \n",
       "46689              7  "
      ]
     },
     "execution_count": 40,
     "metadata": {},
     "output_type": "execute_result"
    }
   ],
   "source": [
    "df.drop(columns=['backers']).sample(5)"
   ]
  },
  {
   "cell_type": "markdown",
   "id": "98d6c3a7",
   "metadata": {},
   "source": [
    "## Conclusion\n",
    "\n",
    "This project demonstrates the potential of using simple machine learning models to predict Kickstarter campaign outcomes based on basic project metadata. While we achieved accuracy improvements over a baseline dummy classifier, the models are still far from production-ready.\n",
    "\n",
    "We found that:\n",
    "- **Logistic Regression** provided reasonable performance and interpretable coefficients, highlighting the importance of features like number of backers and pledged amount.\n",
    "- **K-Nearest Neighbors** appeared to overfit the training data, performing well on training but less effectively on the test set.\n",
    "- Both models, while better than guessing the majority class, still left substantial room for improvement.\n",
    "\n",
    "### Challenges & Next Steps:\n",
    "- The overfitting observed, especially in KNN, suggests a need for perhaps **feature scaling**, **regularization**, or **simplification**.\n",
    "- We haven’t yet made use of potentially informative categorical features like main_category or category.\n",
    "- Adding **cross-validation**, **feature engineering**, and testing other models (e.g., decision trees, gradient boosting) would be valuable next steps.\n",
    "\n",
    "While this was a solid start, there’s still a lot of work ahead to build a robust and generalizable model. That said, we're excited to dive into model tuning and optimization since this is the part we all find most engaging. The data cleaning process was a bit frustrating and a bit of a pain sometimes... so we're glad to have made it through that and can now focus on the fun side of machine learning :)\n",
    "\n",
    "\n",
    "\n",
    "(I know we might do some more cleaning stuff, but we're mostly done with that)"
   ]
  }
 ],
 "metadata": {
  "jupytext": {
   "formats": "ipynb,py:percent"
  },
  "kernelspec": {
   "display_name": "Python [conda env:base] *",
   "language": "python",
   "name": "conda-base-py"
  },
  "language_info": {
   "codemirror_mode": {
    "name": "ipython",
    "version": 3
   },
   "file_extension": ".py",
   "mimetype": "text/x-python",
   "name": "python",
   "nbconvert_exporter": "python",
   "pygments_lexer": "ipython3",
   "version": "3.12.3"
  }
 },
 "nbformat": 4,
 "nbformat_minor": 5
}
