{
 "cells": [
  {
   "cell_type": "markdown",
   "id": "74311715-4288-40c4-a5c6-3ac13502535b",
   "metadata": {
    "jp-MarkdownHeadingCollapsed": true
   },
   "source": [
    "# CST 383: Intro to Data Science  \n",
    "Project 2: Predicting Kickstarter Goal Completion  \n",
    "**Authors:** Brianna Magallon, Tyler Pruitt, Rafael L.S. Reis"
   ]
  },
  {
   "cell_type": "markdown",
   "id": "3b2abba3-2cd9-4a21-813e-fd78cb95fe0f",
   "metadata": {},
   "source": [
    "# Introduction\n",
    "\n",
    "In this project, we use the Kickstarter Projects dataset to build a model that predicts whether a crowdfunding campaign will succeed or fail based on information available at launch. Each entry includes metadata such as goal amount, number of backers, campaign duration, and category.\n",
    "\n",
    "We treat this as a **binary classification problem**, where the outcomes are `'successful'` or `'failed'`. We merge `'canceled'` campaigns into the `'failed'` category, based on the observation that they typically don't meet funding goals.\n",
    "\n",
    "**Dataset Source:**  \n",
    "[Kickstarter Projects (Kaggle)](https://www.kaggle.com/datasets/kemical/kickstarter-projects)"
   ]
  },
  {
   "cell_type": "code",
   "execution_count": 1,
   "id": "a7ada490-50ed-49cf-99eb-e767383a42a9",
   "metadata": {},
   "outputs": [
    {
     "name": "stdout",
     "output_type": "stream",
     "text": [
      "The history saving thread hit an unexpected error (OperationalError('attempt to write a readonly database')).History will not be written to the database.\n"
     ]
    }
   ],
   "source": [
    "import warnings\n",
    "import pandas as pd\n",
    "import seaborn as sns\n",
    "import matplotlib.pyplot as plt\n",
    "from sklearn.model_selection import train_test_split\n",
    "from sklearn.dummy import DummyClassifier\n",
    "from sklearn.linear_model import LogisticRegression\n",
    "from sklearn.neighbors import KNeighborsClassifier\n",
    "from sklearn.metrics import accuracy_score, classification_report\n",
    "from sklearn.metrics import ConfusionMatrixDisplay"
   ]
  },
  {
   "cell_type": "code",
   "execution_count": 2,
   "id": "a5df41d9-1efa-4332-8516-966ae178cede",
   "metadata": {},
   "outputs": [],
   "source": [
    "sns.set_theme(style='whitegrid', context='notebook')\n",
    "plt.rcParams['figure.figsize'] = 5,3"
   ]
  },
  {
   "cell_type": "markdown",
   "id": "4af77e08-130d-44c9-9590-dc50fb5a6ce0",
   "metadata": {},
   "source": [
    "# Data Exploration"
   ]
  },
  {
   "cell_type": "code",
   "execution_count": 3,
   "id": "e9eb5270-0a9f-4d67-807e-f389e7df1d3c",
   "metadata": {},
   "outputs": [],
   "source": [
    "df = pd.read_csv(\"ks-projects-201612.csv\", encoding=\"cp1252\", low_memory=False)"
   ]
  },
  {
   "cell_type": "code",
   "execution_count": 4,
   "id": "8548f04a-2c7c-4cbc-9e9e-809ccdaae018",
   "metadata": {
    "scrolled": true
   },
   "outputs": [
    {
     "data": {
      "text/html": [
       "<div>\n",
       "<style scoped>\n",
       "    .dataframe tbody tr th:only-of-type {\n",
       "        vertical-align: middle;\n",
       "    }\n",
       "\n",
       "    .dataframe tbody tr th {\n",
       "        vertical-align: top;\n",
       "    }\n",
       "\n",
       "    .dataframe thead th {\n",
       "        text-align: right;\n",
       "    }\n",
       "</style>\n",
       "<table border=\"1\" class=\"dataframe\">\n",
       "  <thead>\n",
       "    <tr style=\"text-align: right;\">\n",
       "      <th></th>\n",
       "      <th>ID</th>\n",
       "      <th>name</th>\n",
       "      <th>category</th>\n",
       "      <th>main_category</th>\n",
       "      <th>currency</th>\n",
       "      <th>deadline</th>\n",
       "      <th>goal</th>\n",
       "      <th>launched</th>\n",
       "      <th>pledged</th>\n",
       "      <th>state</th>\n",
       "      <th>backers</th>\n",
       "      <th>country</th>\n",
       "      <th>usd pledged</th>\n",
       "      <th>Unnamed: 13</th>\n",
       "      <th>Unnamed: 14</th>\n",
       "      <th>Unnamed: 15</th>\n",
       "      <th>Unnamed: 16</th>\n",
       "    </tr>\n",
       "  </thead>\n",
       "  <tbody>\n",
       "    <tr>\n",
       "      <th>145708</th>\n",
       "      <td>1865777838</td>\n",
       "      <td>Design &amp; Publish MineCraft style Mobile Games</td>\n",
       "      <td>Mobile Games</td>\n",
       "      <td>Games</td>\n",
       "      <td>GBP</td>\n",
       "      <td>2015-04-21 23:23:17</td>\n",
       "      <td>1500</td>\n",
       "      <td>2015-03-22 22:23:17</td>\n",
       "      <td>28</td>\n",
       "      <td>failed</td>\n",
       "      <td>4</td>\n",
       "      <td>GB</td>\n",
       "      <td>41.869597</td>\n",
       "      <td>NaN</td>\n",
       "      <td>NaN</td>\n",
       "      <td>NaN</td>\n",
       "      <td>NaN</td>\n",
       "    </tr>\n",
       "    <tr>\n",
       "      <th>201125</th>\n",
       "      <td>264694355</td>\n",
       "      <td>Implementing an AWESOME Dance/Art/Fitness Niag...</td>\n",
       "      <td>Dance</td>\n",
       "      <td>Dance</td>\n",
       "      <td>CAD</td>\n",
       "      <td>2014-04-30 20:23:17</td>\n",
       "      <td>2000</td>\n",
       "      <td>2014-04-15 20:23:17</td>\n",
       "      <td>0</td>\n",
       "      <td>failed</td>\n",
       "      <td>0</td>\n",
       "      <td>CA</td>\n",
       "      <td>0</td>\n",
       "      <td>NaN</td>\n",
       "      <td>NaN</td>\n",
       "      <td>NaN</td>\n",
       "      <td>NaN</td>\n",
       "    </tr>\n",
       "    <tr>\n",
       "      <th>106125</th>\n",
       "      <td>1630168903</td>\n",
       "      <td>50 Preposterous Paintings by October, 2012</td>\n",
       "      <td>Painting</td>\n",
       "      <td>Art</td>\n",
       "      <td>USD</td>\n",
       "      <td>2012-05-17 03:37:51</td>\n",
       "      <td>5000</td>\n",
       "      <td>2012-04-17 03:37:51</td>\n",
       "      <td>0</td>\n",
       "      <td>failed</td>\n",
       "      <td>0</td>\n",
       "      <td>US</td>\n",
       "      <td>0</td>\n",
       "      <td>NaN</td>\n",
       "      <td>NaN</td>\n",
       "      <td>NaN</td>\n",
       "      <td>NaN</td>\n",
       "    </tr>\n",
       "    <tr>\n",
       "      <th>59547</th>\n",
       "      <td>1353782287</td>\n",
       "      <td>Nepal Culture Conservation</td>\n",
       "      <td>Documentary</td>\n",
       "      <td>Film &amp; Video</td>\n",
       "      <td>USD</td>\n",
       "      <td>2013-04-19 02:43:37</td>\n",
       "      <td>700</td>\n",
       "      <td>2013-03-20 01:43:37</td>\n",
       "      <td>2</td>\n",
       "      <td>failed</td>\n",
       "      <td>2</td>\n",
       "      <td>US</td>\n",
       "      <td>2</td>\n",
       "      <td>NaN</td>\n",
       "      <td>NaN</td>\n",
       "      <td>NaN</td>\n",
       "      <td>NaN</td>\n",
       "    </tr>\n",
       "    <tr>\n",
       "      <th>46207</th>\n",
       "      <td>1274739942</td>\n",
       "      <td>One Dollar. The Road to Royalty Project.</td>\n",
       "      <td>Hip-Hop</td>\n",
       "      <td>Music</td>\n",
       "      <td>USD</td>\n",
       "      <td>2014-08-26 22:23:52</td>\n",
       "      <td>500</td>\n",
       "      <td>2014-07-27 22:23:52</td>\n",
       "      <td>1</td>\n",
       "      <td>failed</td>\n",
       "      <td>1</td>\n",
       "      <td>US</td>\n",
       "      <td>1</td>\n",
       "      <td>NaN</td>\n",
       "      <td>NaN</td>\n",
       "      <td>NaN</td>\n",
       "      <td>NaN</td>\n",
       "    </tr>\n",
       "  </tbody>\n",
       "</table>\n",
       "</div>"
      ],
      "text/plain": [
       "                ID                                               name  \\\n",
       "145708  1865777838      Design & Publish MineCraft style Mobile Games   \n",
       "201125   264694355  Implementing an AWESOME Dance/Art/Fitness Niag...   \n",
       "106125  1630168903         50 Preposterous Paintings by October, 2012   \n",
       "59547   1353782287                         Nepal Culture Conservation   \n",
       "46207   1274739942           One Dollar. The Road to Royalty Project.   \n",
       "\n",
       "            category main_category currency             deadline  goal  \\\n",
       "145708  Mobile Games         Games      GBP  2015-04-21 23:23:17  1500   \n",
       "201125         Dance         Dance      CAD  2014-04-30 20:23:17  2000   \n",
       "106125      Painting           Art      USD  2012-05-17 03:37:51  5000   \n",
       "59547    Documentary  Film & Video      USD  2013-04-19 02:43:37   700   \n",
       "46207        Hip-Hop         Music      USD  2014-08-26 22:23:52   500   \n",
       "\n",
       "                   launched pledged   state backers country usd pledged  \\\n",
       "145708  2015-03-22 22:23:17      28  failed       4      GB   41.869597   \n",
       "201125  2014-04-15 20:23:17       0  failed       0      CA           0   \n",
       "106125  2012-04-17 03:37:51       0  failed       0      US           0   \n",
       "59547   2013-03-20 01:43:37       2  failed       2      US           2   \n",
       "46207   2014-07-27 22:23:52       1  failed       1      US           1   \n",
       "\n",
       "       Unnamed: 13 Unnamed: 14 Unnamed: 15  Unnamed: 16  \n",
       "145708         NaN         NaN         NaN          NaN  \n",
       "201125         NaN         NaN         NaN          NaN  \n",
       "106125         NaN         NaN         NaN          NaN  \n",
       "59547          NaN         NaN         NaN          NaN  \n",
       "46207          NaN         NaN         NaN          NaN  "
      ]
     },
     "execution_count": 4,
     "metadata": {},
     "output_type": "execute_result"
    }
   ],
   "source": [
    "df.columns = df.columns.str.strip()\n",
    "df.sample(5)"
   ]
  },
  {
   "cell_type": "code",
   "execution_count": 5,
   "id": "bf6a2a5b-a615-41c6-910c-d9d18c15ad98",
   "metadata": {
    "scrolled": true
   },
   "outputs": [
    {
     "name": "stdout",
     "output_type": "stream",
     "text": [
      "<class 'pandas.core.frame.DataFrame'>\n",
      "RangeIndex: 323750 entries, 0 to 323749\n",
      "Data columns (total 17 columns):\n",
      " #   Column         Non-Null Count   Dtype  \n",
      "---  ------         --------------   -----  \n",
      " 0   ID             323750 non-null  int64  \n",
      " 1   name           323746 non-null  object \n",
      " 2   category       323745 non-null  object \n",
      " 3   main_category  323750 non-null  object \n",
      " 4   currency       323750 non-null  object \n",
      " 5   deadline       323750 non-null  object \n",
      " 6   goal           323750 non-null  object \n",
      " 7   launched       323750 non-null  object \n",
      " 8   pledged        323750 non-null  object \n",
      " 9   state          323750 non-null  object \n",
      " 10  backers        323750 non-null  object \n",
      " 11  country        323750 non-null  object \n",
      " 12  usd pledged    319960 non-null  object \n",
      " 13  Unnamed: 13    625 non-null     object \n",
      " 14  Unnamed: 14    12 non-null      object \n",
      " 15  Unnamed: 15    4 non-null       object \n",
      " 16  Unnamed: 16    1 non-null       float64\n",
      "dtypes: float64(1), int64(1), object(15)\n",
      "memory usage: 42.0+ MB\n"
     ]
    }
   ],
   "source": [
    "df.info()"
   ]
  },
  {
   "cell_type": "code",
   "execution_count": 6,
   "id": "f8b439c3-efa8-43a7-bb1f-c939f0f8bd00",
   "metadata": {},
   "outputs": [
    {
     "data": {
      "text/plain": [
       "state\n",
       "failed        168221\n",
       "successful    113081\n",
       "canceled       32354\n",
       "live            4428\n",
       "undefined       3555\n",
       "               ...  \n",
       "2312               1\n",
       "320                1\n",
       "477                1\n",
       "1404               1\n",
       "2634               1\n",
       "Name: count, Length: 410, dtype: int64"
      ]
     },
     "execution_count": 6,
     "metadata": {},
     "output_type": "execute_result"
    }
   ],
   "source": [
    "df['state'].value_counts()"
   ]
  },
  {
   "cell_type": "code",
   "execution_count": 7,
   "id": "81e5aee9-f2c7-4888-ac26-62e95616c27d",
   "metadata": {},
   "outputs": [
    {
     "data": {
      "text/html": [
       "<div>\n",
       "<style scoped>\n",
       "    .dataframe tbody tr th:only-of-type {\n",
       "        vertical-align: middle;\n",
       "    }\n",
       "\n",
       "    .dataframe tbody tr th {\n",
       "        vertical-align: top;\n",
       "    }\n",
       "\n",
       "    .dataframe thead th {\n",
       "        text-align: right;\n",
       "    }\n",
       "</style>\n",
       "<table border=\"1\" class=\"dataframe\">\n",
       "  <thead>\n",
       "    <tr style=\"text-align: right;\">\n",
       "      <th></th>\n",
       "      <th>ID</th>\n",
       "      <th>name</th>\n",
       "      <th>category</th>\n",
       "      <th>main_category</th>\n",
       "      <th>currency</th>\n",
       "      <th>deadline</th>\n",
       "      <th>goal</th>\n",
       "      <th>launched</th>\n",
       "      <th>pledged</th>\n",
       "      <th>state</th>\n",
       "      <th>backers</th>\n",
       "      <th>country</th>\n",
       "      <th>usd pledged</th>\n",
       "      <th>Unnamed: 13</th>\n",
       "      <th>Unnamed: 14</th>\n",
       "      <th>Unnamed: 15</th>\n",
       "      <th>Unnamed: 16</th>\n",
       "    </tr>\n",
       "  </thead>\n",
       "  <tbody>\n",
       "    <tr>\n",
       "      <th>3</th>\n",
       "      <td>1000011046</td>\n",
       "      <td>Community Film Project: The Art of Neighborhoo...</td>\n",
       "      <td>Film &amp; Video</td>\n",
       "      <td>Film &amp; Video</td>\n",
       "      <td>USD</td>\n",
       "      <td>2015-08-29 01:00:00</td>\n",
       "      <td>19500</td>\n",
       "      <td>2015-07-04 08:35:03</td>\n",
       "      <td>1283</td>\n",
       "      <td>canceled</td>\n",
       "      <td>14</td>\n",
       "      <td>US</td>\n",
       "      <td>1283</td>\n",
       "      <td>NaN</td>\n",
       "      <td>NaN</td>\n",
       "      <td>NaN</td>\n",
       "      <td>NaN</td>\n",
       "    </tr>\n",
       "    <tr>\n",
       "      <th>7</th>\n",
       "      <td>1000034518</td>\n",
       "      <td>SPIN - Premium Retractable In-Ear Headphones w...</td>\n",
       "      <td>Product Design</td>\n",
       "      <td>Design</td>\n",
       "      <td>USD</td>\n",
       "      <td>2014-05-29 18:14:43</td>\n",
       "      <td>125000</td>\n",
       "      <td>2014-04-24 18:14:43</td>\n",
       "      <td>8233</td>\n",
       "      <td>canceled</td>\n",
       "      <td>58</td>\n",
       "      <td>US</td>\n",
       "      <td>8233</td>\n",
       "      <td>NaN</td>\n",
       "      <td>NaN</td>\n",
       "      <td>NaN</td>\n",
       "      <td>NaN</td>\n",
       "    </tr>\n",
       "    <tr>\n",
       "      <th>8</th>\n",
       "      <td>100004195</td>\n",
       "      <td>STUDIO IN THE SKY - A Documentary Feature Film...</td>\n",
       "      <td>Documentary</td>\n",
       "      <td>Film &amp; Video</td>\n",
       "      <td>USD</td>\n",
       "      <td>2014-08-10 21:55:48</td>\n",
       "      <td>65000</td>\n",
       "      <td>2014-07-11 21:55:48</td>\n",
       "      <td>6240.57</td>\n",
       "      <td>canceled</td>\n",
       "      <td>43</td>\n",
       "      <td>US</td>\n",
       "      <td>6240.57</td>\n",
       "      <td>NaN</td>\n",
       "      <td>NaN</td>\n",
       "      <td>NaN</td>\n",
       "      <td>NaN</td>\n",
       "    </tr>\n",
       "    <tr>\n",
       "      <th>59</th>\n",
       "      <td>1000256760</td>\n",
       "      <td>Raise the Woof, expanding the love (Canceled)</td>\n",
       "      <td>Design</td>\n",
       "      <td>Design</td>\n",
       "      <td>CAD</td>\n",
       "      <td>2015-08-07 21:46:53</td>\n",
       "      <td>15000</td>\n",
       "      <td>2015-07-08 21:46:53</td>\n",
       "      <td>700</td>\n",
       "      <td>canceled</td>\n",
       "      <td>6</td>\n",
       "      <td>CA</td>\n",
       "      <td>553.324254</td>\n",
       "      <td>NaN</td>\n",
       "      <td>NaN</td>\n",
       "      <td>NaN</td>\n",
       "      <td>NaN</td>\n",
       "    </tr>\n",
       "    <tr>\n",
       "      <th>61</th>\n",
       "      <td>1000260691</td>\n",
       "      <td>Gizbee™ Unlimited Removable Storage for Your T...</td>\n",
       "      <td>Gadgets</td>\n",
       "      <td>Technology</td>\n",
       "      <td>USD</td>\n",
       "      <td>2016-03-25 19:30:27</td>\n",
       "      <td>87000</td>\n",
       "      <td>2016-02-29 20:30:27</td>\n",
       "      <td>2030</td>\n",
       "      <td>canceled</td>\n",
       "      <td>15</td>\n",
       "      <td>US</td>\n",
       "      <td>2030</td>\n",
       "      <td>NaN</td>\n",
       "      <td>NaN</td>\n",
       "      <td>NaN</td>\n",
       "      <td>NaN</td>\n",
       "    </tr>\n",
       "  </tbody>\n",
       "</table>\n",
       "</div>"
      ],
      "text/plain": [
       "            ID                                               name  \\\n",
       "3   1000011046  Community Film Project: The Art of Neighborhoo...   \n",
       "7   1000034518  SPIN - Premium Retractable In-Ear Headphones w...   \n",
       "8    100004195  STUDIO IN THE SKY - A Documentary Feature Film...   \n",
       "59  1000256760      Raise the Woof, expanding the love (Canceled)   \n",
       "61  1000260691  Gizbee™ Unlimited Removable Storage for Your T...   \n",
       "\n",
       "          category main_category currency             deadline    goal  \\\n",
       "3     Film & Video  Film & Video      USD  2015-08-29 01:00:00   19500   \n",
       "7   Product Design        Design      USD  2014-05-29 18:14:43  125000   \n",
       "8      Documentary  Film & Video      USD  2014-08-10 21:55:48   65000   \n",
       "59          Design        Design      CAD  2015-08-07 21:46:53   15000   \n",
       "61         Gadgets    Technology      USD  2016-03-25 19:30:27   87000   \n",
       "\n",
       "               launched  pledged     state backers country usd pledged  \\\n",
       "3   2015-07-04 08:35:03     1283  canceled      14      US        1283   \n",
       "7   2014-04-24 18:14:43     8233  canceled      58      US        8233   \n",
       "8   2014-07-11 21:55:48  6240.57  canceled      43      US     6240.57   \n",
       "59  2015-07-08 21:46:53      700  canceled       6      CA  553.324254   \n",
       "61  2016-02-29 20:30:27     2030  canceled      15      US        2030   \n",
       "\n",
       "   Unnamed: 13 Unnamed: 14 Unnamed: 15  Unnamed: 16  \n",
       "3          NaN         NaN         NaN          NaN  \n",
       "7          NaN         NaN         NaN          NaN  \n",
       "8          NaN         NaN         NaN          NaN  \n",
       "59         NaN         NaN         NaN          NaN  \n",
       "61         NaN         NaN         NaN          NaN  "
      ]
     },
     "execution_count": 7,
     "metadata": {},
     "output_type": "execute_result"
    }
   ],
   "source": [
    "df[df['state'] == \"canceled\"].head()"
   ]
  },
  {
   "cell_type": "code",
   "execution_count": 8,
   "id": "a0cee829-fe12-4b82-b1a9-254b3f2c70dd",
   "metadata": {},
   "outputs": [
    {
     "data": {
      "text/plain": [
       "country\n",
       "US      257565\n",
       "GB       27509\n",
       "CA       11992\n",
       "AU        6236\n",
       "N,\"0      3790\n",
       "         ...  \n",
       "582          1\n",
       "26           1\n",
       "27           1\n",
       "136          1\n",
       "176          1\n",
       "Name: count, Length: 162, dtype: int64"
      ]
     },
     "execution_count": 8,
     "metadata": {},
     "output_type": "execute_result"
    }
   ],
   "source": [
    "df['country'].value_counts()"
   ]
  },
  {
   "cell_type": "code",
   "execution_count": 9,
   "id": "65ad09da-56d1-4f57-a242-9add6b1236ad",
   "metadata": {},
   "outputs": [],
   "source": [
    "dftest = df[df['country'] == 'US']\n",
    "dftest = dftest.drop(columns=[\"Unnamed: 13\", \"Unnamed: 14\", \"Unnamed: 15\", \"Unnamed: 16\"])"
   ]
  },
  {
   "cell_type": "code",
   "execution_count": 10,
   "id": "420c7056-ab7e-4404-b3fd-f60e49ad6aaa",
   "metadata": {},
   "outputs": [
    {
     "data": {
      "text/plain": [
       "category\n",
       "Product Design    13410\n",
       "Documentary       12864\n",
       "Music             10288\n",
       "Shorts            10009\n",
       "Food               9013\n",
       "                  ...  \n",
       "Weaving              45\n",
       "Residencies          34\n",
       "Letterpress          28\n",
       "Chiptune             23\n",
       "Taxidermy             6\n",
       "Name: count, Length: 158, dtype: int64"
      ]
     },
     "execution_count": 10,
     "metadata": {},
     "output_type": "execute_result"
    }
   ],
   "source": [
    "dftest['category'].value_counts()"
   ]
  },
  {
   "cell_type": "code",
   "execution_count": 11,
   "id": "86b0d8bd-13a1-463e-a932-ace93e51841c",
   "metadata": {},
   "outputs": [
    {
     "data": {
      "text/plain": [
       "main_category\n",
       "Film & Video    48086\n",
       "Music           39517\n",
       "Publishing      27973\n",
       "Games           20392\n",
       "Art             19640\n",
       "Design          18106\n",
       "Technology      17913\n",
       "Food            17479\n",
       "Fashion         13943\n",
       "Theater          8138\n",
       "Comics           7392\n",
       "Photography      7389\n",
       "Crafts           5570\n",
       "Journalism       3092\n",
       "Dance            2935\n",
       "Name: count, dtype: int64"
      ]
     },
     "execution_count": 11,
     "metadata": {},
     "output_type": "execute_result"
    }
   ],
   "source": [
    "dftest['main_category'].value_counts()"
   ]
  },
  {
   "cell_type": "code",
   "execution_count": 12,
   "id": "ba501279-17cb-4478-8984-50a9411b2bdc",
   "metadata": {},
   "outputs": [
    {
     "data": {
      "image/png": "[encoded data removed]",
      "text/plain": [
       "<Figure size 500x300 with 1 Axes>"
      ]
     },
     "metadata": {},
     "output_type": "display_data"
    }
   ],
   "source": [
    "state_counts = df['state'].value_counts().head(10)\n",
    "state_counts.plot.bar()\n",
    "plt.title('Distribution of campaign outcomes')\n",
    "plt.xlabel('state')\n",
    "plt.ylabel('count')\n",
    "plt.show()"
   ]
  },
  {
   "cell_type": "code",
   "execution_count": 13,
   "id": "f526f7df-5bb7-45f8-95c8-6217cdfd76d3",
   "metadata": {},
   "outputs": [
    {
     "data": {
      "image/png": "[encoded data removed]",
      "text/plain": [
       "<Figure size 500x300 with 1 Axes>"
      ]
     },
     "metadata": {},
     "output_type": "display_data"
    }
   ],
   "source": [
    "df['main_category'].value_counts().head(10).plot.bar()\n",
    "plt.title(\"Number of campaigns per main category\")\n",
    "plt.xlabel(\"main category \")\n",
    "plt.ylabel(\"count\")\n",
    "plt.show()"
   ]
  },
  {
   "cell_type": "markdown",
   "id": "8cac4ae0",
   "metadata": {},
   "source": [
    "# Data Cleaning & Preprocessing\n",
    "\n",
    "We begin cleaning by dropping empty or irrelevant columns and filtering to U.S.-based projects."
   ]
  },
  {
   "cell_type": "code",
   "execution_count": 14,
   "id": "20aad55f",
   "metadata": {},
   "outputs": [],
   "source": [
    "df = df.drop(columns=[\"Unnamed: 13\", \"Unnamed: 14\", \"Unnamed: 15\", \"Unnamed: 16\"])"
   ]
  },
  {
   "cell_type": "code",
   "execution_count": 15,
   "id": "fb1b2d70",
   "metadata": {},
   "outputs": [
    {
     "data": {
      "text/html": [
       "<div>\n",
       "<style scoped>\n",
       "    .dataframe tbody tr th:only-of-type {\n",
       "        vertical-align: middle;\n",
       "    }\n",
       "\n",
       "    .dataframe tbody tr th {\n",
       "        vertical-align: top;\n",
       "    }\n",
       "\n",
       "    .dataframe thead th {\n",
       "        text-align: right;\n",
       "    }\n",
       "</style>\n",
       "<table border=\"1\" class=\"dataframe\">\n",
       "  <thead>\n",
       "    <tr style=\"text-align: right;\">\n",
       "      <th></th>\n",
       "      <th>ID</th>\n",
       "      <th>name</th>\n",
       "      <th>category</th>\n",
       "      <th>main_category</th>\n",
       "      <th>currency</th>\n",
       "      <th>deadline</th>\n",
       "      <th>goal</th>\n",
       "      <th>launched</th>\n",
       "      <th>pledged</th>\n",
       "      <th>state</th>\n",
       "      <th>backers</th>\n",
       "      <th>country</th>\n",
       "      <th>usd pledged</th>\n",
       "    </tr>\n",
       "  </thead>\n",
       "  <tbody>\n",
       "    <tr>\n",
       "      <th>173150</th>\n",
       "      <td>2030610614</td>\n",
       "      <td>Pre-order RIVVRS' new album, out March 2016!</td>\n",
       "      <td>Music</td>\n",
       "      <td>Music</td>\n",
       "      <td>USD</td>\n",
       "      <td>2016-02-09 08:59:00</td>\n",
       "      <td>5000</td>\n",
       "      <td>2016-01-11 15:33:06</td>\n",
       "      <td>5305</td>\n",
       "      <td>undefined</td>\n",
       "      <td>0</td>\n",
       "      <td>N,\"0</td>\n",
       "      <td>NaN</td>\n",
       "    </tr>\n",
       "    <tr>\n",
       "      <th>128902</th>\n",
       "      <td>1765245435</td>\n",
       "      <td>Music Development/Studio EP</td>\n",
       "      <td>Music</td>\n",
       "      <td>Music</td>\n",
       "      <td>USD</td>\n",
       "      <td>2015-11-20 20:38:00</td>\n",
       "      <td>3000</td>\n",
       "      <td>2015-10-17 00:08:43</td>\n",
       "      <td>0</td>\n",
       "      <td>undefined</td>\n",
       "      <td>0</td>\n",
       "      <td>N,\"0</td>\n",
       "      <td>NaN</td>\n",
       "    </tr>\n",
       "    <tr>\n",
       "      <th>34153</th>\n",
       "      <td>1202947863</td>\n",
       "      <td>Miner's Mountain</td>\n",
       "      <td>Film &amp; Video</td>\n",
       "      <td>Film &amp; Video</td>\n",
       "      <td>USD</td>\n",
       "      <td>2014-06-26 01:28:00</td>\n",
       "      <td>2100</td>\n",
       "      <td>2014-06-11 12:59:01</td>\n",
       "      <td>2145</td>\n",
       "      <td>undefined</td>\n",
       "      <td>0</td>\n",
       "      <td>N,\"0</td>\n",
       "      <td>NaN</td>\n",
       "    </tr>\n",
       "    <tr>\n",
       "      <th>291666</th>\n",
       "      <td>807288996</td>\n",
       "      <td>Boy vs. Island</td>\n",
       "      <td>Film &amp; Video</td>\n",
       "      <td>Film &amp; Video</td>\n",
       "      <td>USD</td>\n",
       "      <td>2014-08-23 19:46:00</td>\n",
       "      <td>3000</td>\n",
       "      <td>2014-06-27 00:07:15</td>\n",
       "      <td>4913.12</td>\n",
       "      <td>undefined</td>\n",
       "      <td>0</td>\n",
       "      <td>N,\"0</td>\n",
       "      <td>NaN</td>\n",
       "    </tr>\n",
       "    <tr>\n",
       "      <th>23943</th>\n",
       "      <td>1141515342</td>\n",
       "      <td>The 10 Deadly Mistakes to Avoid in the Job Sea...</td>\n",
       "      <td>Publishing</td>\n",
       "      <td>Publishing</td>\n",
       "      <td>CAD</td>\n",
       "      <td>2015-06-17 17:43:41</td>\n",
       "      <td>5000</td>\n",
       "      <td>2015-05-18 17:43:41</td>\n",
       "      <td>10</td>\n",
       "      <td>undefined</td>\n",
       "      <td>0</td>\n",
       "      <td>N,\"0</td>\n",
       "      <td>NaN</td>\n",
       "    </tr>\n",
       "  </tbody>\n",
       "</table>\n",
       "</div>"
      ],
      "text/plain": [
       "                ID                                               name  \\\n",
       "173150  2030610614       Pre-order RIVVRS' new album, out March 2016!   \n",
       "128902  1765245435                        Music Development/Studio EP   \n",
       "34153   1202947863                                   Miner's Mountain   \n",
       "291666   807288996                                     Boy vs. Island   \n",
       "23943   1141515342  The 10 Deadly Mistakes to Avoid in the Job Sea...   \n",
       "\n",
       "            category main_category currency             deadline  goal  \\\n",
       "173150         Music         Music      USD  2016-02-09 08:59:00  5000   \n",
       "128902         Music         Music      USD  2015-11-20 20:38:00  3000   \n",
       "34153   Film & Video  Film & Video      USD  2014-06-26 01:28:00  2100   \n",
       "291666  Film & Video  Film & Video      USD  2014-08-23 19:46:00  3000   \n",
       "23943     Publishing    Publishing      CAD  2015-06-17 17:43:41  5000   \n",
       "\n",
       "                   launched  pledged      state backers country usd pledged  \n",
       "173150  2016-01-11 15:33:06     5305  undefined       0    N,\"0         NaN  \n",
       "128902  2015-10-17 00:08:43        0  undefined       0    N,\"0         NaN  \n",
       "34153   2014-06-11 12:59:01     2145  undefined       0    N,\"0         NaN  \n",
       "291666  2014-06-27 00:07:15  4913.12  undefined       0    N,\"0         NaN  \n",
       "23943   2015-05-18 17:43:41       10  undefined       0    N,\"0         NaN  "
      ]
     },
     "execution_count": 15,
     "metadata": {},
     "output_type": "execute_result"
    }
   ],
   "source": [
    "df[df.isnull().any(axis=1)].sample(5)"
   ]
  },
  {
   "cell_type": "code",
   "execution_count": 16,
   "id": "64196cab",
   "metadata": {},
   "outputs": [],
   "source": [
    "df = df[df['state'].isin([\"successful\", \"failed\", \"canceled\"])]"
   ]
  },
  {
   "cell_type": "code",
   "execution_count": 17,
   "id": "d7a1e1d1",
   "metadata": {},
   "outputs": [
    {
     "name": "stdout",
     "output_type": "stream",
     "text": [
      "Rows still with null values:  235\n"
     ]
    },
    {
     "data": {
      "text/html": [
       "<div>\n",
       "<style scoped>\n",
       "    .dataframe tbody tr th:only-of-type {\n",
       "        vertical-align: middle;\n",
       "    }\n",
       "\n",
       "    .dataframe tbody tr th {\n",
       "        vertical-align: top;\n",
       "    }\n",
       "\n",
       "    .dataframe thead th {\n",
       "        text-align: right;\n",
       "    }\n",
       "</style>\n",
       "<table border=\"1\" class=\"dataframe\">\n",
       "  <thead>\n",
       "    <tr style=\"text-align: right;\">\n",
       "      <th></th>\n",
       "      <th>ID</th>\n",
       "      <th>name</th>\n",
       "      <th>category</th>\n",
       "      <th>main_category</th>\n",
       "      <th>currency</th>\n",
       "      <th>deadline</th>\n",
       "      <th>goal</th>\n",
       "      <th>launched</th>\n",
       "      <th>pledged</th>\n",
       "      <th>state</th>\n",
       "      <th>backers</th>\n",
       "      <th>country</th>\n",
       "      <th>usd pledged</th>\n",
       "    </tr>\n",
       "  </thead>\n",
       "  <tbody>\n",
       "    <tr>\n",
       "      <th>159905</th>\n",
       "      <td>1951214970</td>\n",
       "      <td>LIVE NOISE GIG WITH RECORDING</td>\n",
       "      <td>Music</td>\n",
       "      <td>Music</td>\n",
       "      <td>EUR</td>\n",
       "      <td>2016-05-09 17:10:15</td>\n",
       "      <td>1080</td>\n",
       "      <td>2016-04-09 17:10:15</td>\n",
       "      <td>1</td>\n",
       "      <td>failed</td>\n",
       "      <td>0</td>\n",
       "      <td>N,\"0</td>\n",
       "      <td>NaN</td>\n",
       "    </tr>\n",
       "    <tr>\n",
       "      <th>156513</th>\n",
       "      <td>1930994061</td>\n",
       "      <td>Whimsy (A debut album by three sisters)</td>\n",
       "      <td>Music</td>\n",
       "      <td>Music</td>\n",
       "      <td>USD</td>\n",
       "      <td>2016-05-18 19:38:34</td>\n",
       "      <td>7500</td>\n",
       "      <td>2016-04-18 19:38:34</td>\n",
       "      <td>7500</td>\n",
       "      <td>successful</td>\n",
       "      <td>0</td>\n",
       "      <td>N,\"0</td>\n",
       "      <td>NaN</td>\n",
       "    </tr>\n",
       "    <tr>\n",
       "      <th>178571</th>\n",
       "      <td>2063434123</td>\n",
       "      <td>Gen Y - The Web Series</td>\n",
       "      <td>Film &amp; Video</td>\n",
       "      <td>Film &amp; Video</td>\n",
       "      <td>USD</td>\n",
       "      <td>2016-05-24 02:16:46</td>\n",
       "      <td>3500</td>\n",
       "      <td>2016-04-24 02:16:46</td>\n",
       "      <td>3635</td>\n",
       "      <td>successful</td>\n",
       "      <td>0</td>\n",
       "      <td>N,\"0</td>\n",
       "      <td>NaN</td>\n",
       "    </tr>\n",
       "    <tr>\n",
       "      <th>234876</th>\n",
       "      <td>466994278</td>\n",
       "      <td>CutLeaf Productions</td>\n",
       "      <td>Film &amp; Video</td>\n",
       "      <td>Film &amp; Video</td>\n",
       "      <td>GBP</td>\n",
       "      <td>2016-07-01 18:47:00</td>\n",
       "      <td>4500</td>\n",
       "      <td>2016-05-21 20:45:12</td>\n",
       "      <td>200</td>\n",
       "      <td>canceled</td>\n",
       "      <td>0</td>\n",
       "      <td>N,\"0</td>\n",
       "      <td>NaN</td>\n",
       "    </tr>\n",
       "    <tr>\n",
       "      <th>230560</th>\n",
       "      <td>441060346</td>\n",
       "      <td>New EP/Music Development</td>\n",
       "      <td>Music</td>\n",
       "      <td>Music</td>\n",
       "      <td>USD</td>\n",
       "      <td>2016-05-20 16:29:00</td>\n",
       "      <td>3000</td>\n",
       "      <td>2016-04-06 18:50:35</td>\n",
       "      <td>147</td>\n",
       "      <td>failed</td>\n",
       "      <td>0</td>\n",
       "      <td>N,\"0</td>\n",
       "      <td>NaN</td>\n",
       "    </tr>\n",
       "  </tbody>\n",
       "</table>\n",
       "</div>"
      ],
      "text/plain": [
       "                ID                                     name      category  \\\n",
       "159905  1951214970            LIVE NOISE GIG WITH RECORDING         Music   \n",
       "156513  1930994061  Whimsy (A debut album by three sisters)         Music   \n",
       "178571  2063434123                   Gen Y - The Web Series  Film & Video   \n",
       "234876   466994278                      CutLeaf Productions  Film & Video   \n",
       "230560   441060346                 New EP/Music Development         Music   \n",
       "\n",
       "       main_category currency             deadline  goal             launched  \\\n",
       "159905         Music      EUR  2016-05-09 17:10:15  1080  2016-04-09 17:10:15   \n",
       "156513         Music      USD  2016-05-18 19:38:34  7500  2016-04-18 19:38:34   \n",
       "178571  Film & Video      USD  2016-05-24 02:16:46  3500  2016-04-24 02:16:46   \n",
       "234876  Film & Video      GBP  2016-07-01 18:47:00  4500  2016-05-21 20:45:12   \n",
       "230560         Music      USD  2016-05-20 16:29:00  3000  2016-04-06 18:50:35   \n",
       "\n",
       "       pledged       state backers country usd pledged  \n",
       "159905       1      failed       0    N,\"0         NaN  \n",
       "156513    7500  successful       0    N,\"0         NaN  \n",
       "178571    3635  successful       0    N,\"0         NaN  \n",
       "234876     200    canceled       0    N,\"0         NaN  \n",
       "230560     147      failed       0    N,\"0         NaN  "
      ]
     },
     "execution_count": 17,
     "metadata": {},
     "output_type": "execute_result"
    }
   ],
   "source": [
    "print(\"Rows still with null values: \", len(df[df.isnull().any(axis=1)]))\n",
    "df[df.isnull().any(axis=1)].sample(5)"
   ]
  },
  {
   "cell_type": "markdown",
   "id": "7664962b-c4a0-4552-8b19-0082361c9089",
   "metadata": {},
   "source": [
    "The majority of rows with null values are music or film projects with 0 backers and questionable labels. These rows are minimal (~127), so we drop them."
   ]
  },
  {
   "cell_type": "code",
   "execution_count": 18,
   "id": "e2b55760",
   "metadata": {},
   "outputs": [
    {
     "name": "stdout",
     "output_type": "stream",
     "text": [
      "<class 'pandas.core.frame.DataFrame'>\n",
      "Index: 313421 entries, 0 to 323749\n",
      "Data columns (total 13 columns):\n",
      " #   Column         Non-Null Count   Dtype \n",
      "---  ------         --------------   ----- \n",
      " 0   ID             313421 non-null  int64 \n",
      " 1   name           313421 non-null  object\n",
      " 2   category       313421 non-null  object\n",
      " 3   main_category  313421 non-null  object\n",
      " 4   currency       313421 non-null  object\n",
      " 5   deadline       313421 non-null  object\n",
      " 6   goal           313421 non-null  object\n",
      " 7   launched       313421 non-null  object\n",
      " 8   pledged        313421 non-null  object\n",
      " 9   state          313421 non-null  object\n",
      " 10  backers        313421 non-null  object\n",
      " 11  country        313421 non-null  object\n",
      " 12  usd pledged    313421 non-null  object\n",
      "dtypes: int64(1), object(12)\n",
      "memory usage: 33.5+ MB\n"
     ]
    }
   ],
   "source": [
    "df = df.dropna()\n",
    "len(df[df.isnull().any(axis=1)])  # confirm\n",
    "df.info()"
   ]
  },
  {
   "cell_type": "code",
   "execution_count": 19,
   "id": "7ab041fd-58eb-412f-8b48-80a5f6a18cf9",
   "metadata": {},
   "outputs": [
    {
     "name": "stdout",
     "output_type": "stream",
     "text": [
      "<class 'pandas.core.series.Series'>\n",
      "Index: 313421 entries, 0 to 323749\n",
      "Series name: backers\n",
      "Non-Null Count   Dtype \n",
      "--------------   ----- \n",
      "313421 non-null  object\n",
      "dtypes: object(1)\n",
      "memory usage: 4.8+ MB\n"
     ]
    }
   ],
   "source": [
    "df['backers'].info()"
   ]
  },
  {
   "cell_type": "markdown",
   "id": "c1c6c316-f8fc-45c3-8aba-abab6e6316a1",
   "metadata": {},
   "source": [
    "We now correct numeric fields and focus on U.S. projects."
   ]
  },
  {
   "cell_type": "code",
   "execution_count": 20,
   "id": "d1fcb0ab",
   "metadata": {},
   "outputs": [
    {
     "name": "stdout",
     "output_type": "stream",
     "text": [
      "0          1000\n",
      "1         45000\n",
      "2          5000\n",
      "3         19500\n",
      "4         50000\n",
      "          ...  \n",
      "323745    50000\n",
      "323746     1500\n",
      "323747    15000\n",
      "323748    15000\n",
      "323749     2000\n",
      "Name: goal, Length: 313421, dtype: int64\n"
     ]
    }
   ],
   "source": [
    "df['goal'] = pd.to_numeric(df['goal'], errors='coerce').astype(int)\n",
    "df.dropna(subset=['goal'], inplace=True)\n",
    "print(df['goal'])"
   ]
  },
  {
   "cell_type": "code",
   "execution_count": 21,
   "id": "59388a1a",
   "metadata": {},
   "outputs": [],
   "source": [
    "df = df[df['country'] == 'US']\n",
    "df = df.drop(columns=[\"usd pledged\"])"
   ]
  },
  {
   "cell_type": "markdown",
   "id": "cea53398-c7c3-416e-819d-c75cf705fda7",
   "metadata": {},
   "source": [
    "We convert string dates to datetime, compute duration, and encode labels."
   ]
  },
  {
   "cell_type": "code",
   "execution_count": 22,
   "id": "8ff0f4e7-657f-4830-8deb-d58331aac0bf",
   "metadata": {},
   "outputs": [],
   "source": [
    "df['launched'] = pd.to_datetime(df['launched'])\n",
    "df['deadline'] = pd.to_datetime(df['deadline'])\n",
    "df['duration_days'] = (df['deadline'] - df['launched']).dt.days\n",
    "\n",
    "df['state'] = df['state'].replace('canceled', 'failed')\n",
    "df = df[df['state'].isin(['failed', 'successful'])].copy()\n",
    "df['state_encoded'] = df['state'].map({'failed': 1, 'successful': 0})\n",
    "\n",
    "numeric_cols = ['goal', 'pledged', 'backers', 'pledged']\n",
    "for col in numeric_cols:\n",
    "    df[col] = pd.to_numeric(df[col], errors='coerce')\n",
    "\n",
    "df = df.drop(columns=['ID', 'name', 'launched', 'deadline', 'state', 'country', 'currency'])"
   ]
  },
  {
   "cell_type": "code",
   "execution_count": 23,
   "id": "bef3b068-1dfc-41ef-bf87-03bc48068b6d",
   "metadata": {
    "scrolled": true
   },
   "outputs": [
    {
     "name": "stdout",
     "output_type": "stream",
     "text": [
      "<class 'pandas.core.frame.DataFrame'>\n",
      "Index: 253852 entries, 1 to 323749\n",
      "Data columns (total 7 columns):\n",
      " #   Column         Non-Null Count   Dtype  \n",
      "---  ------         --------------   -----  \n",
      " 0   category       253852 non-null  object \n",
      " 1   main_category  253852 non-null  object \n",
      " 2   goal           253852 non-null  int64  \n",
      " 3   pledged        253852 non-null  float64\n",
      " 4   backers        253852 non-null  int64  \n",
      " 5   duration_days  253852 non-null  int64  \n",
      " 6   state_encoded  253852 non-null  int64  \n",
      "dtypes: float64(1), int64(4), object(2)\n",
      "memory usage: 15.5+ MB\n"
     ]
    }
   ],
   "source": [
    "df.info()"
   ]
  },
  {
   "cell_type": "code",
   "execution_count": 24,
   "id": "5b877de1-deb8-4df8-9e8c-df061d7cca2a",
   "metadata": {},
   "outputs": [
    {
     "data": {
      "text/html": [
       "<div>\n",
       "<style scoped>\n",
       "    .dataframe tbody tr th:only-of-type {\n",
       "        vertical-align: middle;\n",
       "    }\n",
       "\n",
       "    .dataframe tbody tr th {\n",
       "        vertical-align: top;\n",
       "    }\n",
       "\n",
       "    .dataframe thead th {\n",
       "        text-align: right;\n",
       "    }\n",
       "</style>\n",
       "<table border=\"1\" class=\"dataframe\">\n",
       "  <thead>\n",
       "    <tr style=\"text-align: right;\">\n",
       "      <th></th>\n",
       "      <th>category</th>\n",
       "      <th>main_category</th>\n",
       "      <th>goal</th>\n",
       "      <th>pledged</th>\n",
       "      <th>backers</th>\n",
       "      <th>duration_days</th>\n",
       "      <th>state_encoded</th>\n",
       "    </tr>\n",
       "  </thead>\n",
       "  <tbody>\n",
       "    <tr>\n",
       "      <th>140622</th>\n",
       "      <td>Country &amp; Folk</td>\n",
       "      <td>Music</td>\n",
       "      <td>1000</td>\n",
       "      <td>2237.12</td>\n",
       "      <td>108</td>\n",
       "      <td>15</td>\n",
       "      <td>0</td>\n",
       "    </tr>\n",
       "    <tr>\n",
       "      <th>240607</th>\n",
       "      <td>Theater</td>\n",
       "      <td>Theater</td>\n",
       "      <td>500</td>\n",
       "      <td>610.00</td>\n",
       "      <td>16</td>\n",
       "      <td>17</td>\n",
       "      <td>0</td>\n",
       "    </tr>\n",
       "    <tr>\n",
       "      <th>237572</th>\n",
       "      <td>Indie Rock</td>\n",
       "      <td>Music</td>\n",
       "      <td>3200</td>\n",
       "      <td>3210.00</td>\n",
       "      <td>75</td>\n",
       "      <td>42</td>\n",
       "      <td>0</td>\n",
       "    </tr>\n",
       "    <tr>\n",
       "      <th>27973</th>\n",
       "      <td>Hip-Hop</td>\n",
       "      <td>Music</td>\n",
       "      <td>6000</td>\n",
       "      <td>1325.00</td>\n",
       "      <td>24</td>\n",
       "      <td>43</td>\n",
       "      <td>1</td>\n",
       "    </tr>\n",
       "    <tr>\n",
       "      <th>256022</th>\n",
       "      <td>Indie Rock</td>\n",
       "      <td>Music</td>\n",
       "      <td>6000</td>\n",
       "      <td>6430.00</td>\n",
       "      <td>30</td>\n",
       "      <td>30</td>\n",
       "      <td>0</td>\n",
       "    </tr>\n",
       "  </tbody>\n",
       "</table>\n",
       "</div>"
      ],
      "text/plain": [
       "              category main_category  goal  pledged  backers  duration_days  \\\n",
       "140622  Country & Folk         Music  1000  2237.12      108             15   \n",
       "240607         Theater       Theater   500   610.00       16             17   \n",
       "237572      Indie Rock         Music  3200  3210.00       75             42   \n",
       "27973          Hip-Hop         Music  6000  1325.00       24             43   \n",
       "256022      Indie Rock         Music  6000  6430.00       30             30   \n",
       "\n",
       "        state_encoded  \n",
       "140622              0  \n",
       "240607              0  \n",
       "237572              0  \n",
       "27973               1  \n",
       "256022              0  "
      ]
     },
     "execution_count": 24,
     "metadata": {},
     "output_type": "execute_result"
    }
   ],
   "source": [
    "df.sample(5)"
   ]
  },
  {
   "cell_type": "markdown",
   "id": "4754090d-6e90-41cb-9fc0-d3de97538f6b",
   "metadata": {},
   "source": [
    "Everything looks good so far. We may revisit the category fields in later iterations."
   ]
  },
  {
   "cell_type": "markdown",
   "id": "874acb7e-5898-413d-a06b-ad8d80a48df8",
   "metadata": {},
   "source": [
    "# Machine Learning\n",
    "\n",
    "We define our features and target, then apply a baseline and two models."
   ]
  },
  {
   "cell_type": "code",
   "execution_count": 25,
   "id": "7654a5c2",
   "metadata": {},
   "outputs": [
    {
     "name": "stdout",
     "output_type": "stream",
     "text": [
      "Baseline accuracy: 0.6211813830730141\n",
      "Logistic Regression accuracy: 0.9870792381477616\n",
      "              precision    recall  f1-score   support\n",
      "\n",
      "           0       0.97      1.00      0.98     19233\n",
      "           1       1.00      0.98      0.99     31538\n",
      "\n",
      "    accuracy                           0.99     50771\n",
      "   macro avg       0.98      0.99      0.99     50771\n",
      "weighted avg       0.99      0.99      0.99     50771\n",
      "\n",
      "KNN accuracy: 0.9979712828189321\n",
      "              precision    recall  f1-score   support\n",
      "\n",
      "           0       0.99      1.00      1.00     19233\n",
      "           1       1.00      1.00      1.00     31538\n",
      "\n",
      "    accuracy                           1.00     50771\n",
      "   macro avg       1.00      1.00      1.00     50771\n",
      "weighted avg       1.00      1.00      1.00     50771\n",
      "\n"
     ]
    }
   ],
   "source": [
    "X = df[['goal', 'backers', 'pledged', 'duration_days']]\n",
    "y = df['state_encoded']\n",
    "\n",
    "X_train, X_test, y_train, y_test = train_test_split(X, y, test_size=0.2, random_state=42)\n",
    "\n",
    "baseline = DummyClassifier(strategy='most_frequent')\n",
    "baseline.fit(X_train, y_train)\n",
    "y_pred_baseline = baseline.predict(X_test)\n",
    "print(\"Baseline accuracy:\", accuracy_score(y_test, y_pred_baseline))\n",
    "\n",
    "logreg = LogisticRegression(max_iter=1000)\n",
    "logreg.fit(X_train, y_train)\n",
    "y_pred_logreg = logreg.predict(X_test)\n",
    "print(\"Logistic Regression accuracy:\", accuracy_score(y_test, y_pred_logreg))\n",
    "print(classification_report(y_test, y_pred_logreg))\n",
    "\n",
    "knn = KNeighborsClassifier(n_neighbors=5)\n",
    "knn.fit(X_train, y_train)\n",
    "y_pred_knn = knn.predict(X_test)\n",
    "print(\"KNN accuracy:\", accuracy_score(y_test, y_pred_knn))\n",
    "print(classification_report(y_test, y_pred_knn))"
   ]
  },
  {
   "cell_type": "markdown",
   "id": "2d6193e4-a3ba-4376-954a-77115c9be761",
   "metadata": {},
   "source": [
    "Both models beat the baseline, but the KNN model may be overfitting. We’ll explore this further."
   ]
  },
  {
   "cell_type": "code",
   "execution_count": 26,
   "id": "6100870d-06d2-4682-ab3a-bb7b2e7731f3",
   "metadata": {},
   "outputs": [
    {
     "data": {
      "image/png": "[encoded data removed]",
      "text/plain": [
       "<Figure size 500x300 with 2 Axes>"
      ]
     },
     "metadata": {},
     "output_type": "display_data"
    },
    {
     "data": {
      "image/png": "[encoded data removed]",
      "text/plain": [
       "<Figure size 500x300 with 2 Axes>"
      ]
     },
     "metadata": {},
     "output_type": "display_data"
    }
   ],
   "source": [
    "ConfusionMatrixDisplay.from_estimator(logreg, X_test, y_test)\n",
    "plt.title(\"Logistic Regression - Confusion Matrix\")\n",
    "plt.show()\n",
    "\n",
    "ConfusionMatrixDisplay.from_estimator(knn, X_test, y_test)\n",
    "plt.title(\"KNN - Confusion Matrix\")\n",
    "plt.show()"
   ]
  },
  {
   "cell_type": "code",
   "execution_count": 27,
   "id": "5ee97224-e313-44f5-bd12-0081c5b4c181",
   "metadata": {},
   "outputs": [
    {
     "data": {
      "image/png": "[encoded data removed]",
      "text/plain": [
       "<Figure size 500x300 with 1 Axes>"
      ]
     },
     "metadata": {},
     "output_type": "display_data"
    }
   ],
   "source": [
    "coeffs = pd.Series(logreg.coef_[0], index=X.columns)\n",
    "coeffs.sort_values().plot(kind='barh')\n",
    "plt.title(\"Logistic Regression Feature Coefficients\")\n",
    "plt.xlabel(\"Impact on 'Failure' Probability\")\n",
    "plt.show()"
   ]
  },
  {
   "cell_type": "markdown",
   "id": "b84f36ba-65d0-4bd3-b651-b47f5efbf48f",
   "metadata": {},
   "source": [
    "The feature coefficients are useful for interpreting model behavior. Backers and pledged amount are strong predictors of success."
   ]
  },
  {
   "cell_type": "markdown",
   "id": "98d6c3a7",
   "metadata": {},
   "source": [
    "## Conclusion\n",
    "\n",
    "This project demonstrates the potential of using simple machine learning models to predict Kickstarter campaign outcomes based on basic project metadata. While we achieved accuracy improvements over a baseline dummy classifier, the models are still far from production-ready.\n",
    "\n",
    "We found that:\n",
    "- **Logistic Regression** provided reasonable performance and interpretable coefficients, highlighting the importance of features like number of backers and pledged amount.\n",
    "- **K-Nearest Neighbors** appeared to overfit the training data, performing well on training but less effectively on the test set.\n",
    "- Both models, while better than guessing the majority class, still left substantial room for improvement.\n",
    "\n",
    "### Challenges & Next Steps:\n",
    "- The overfitting observed, especially in KNN, suggests a need for **feature scaling**, **regularization**, or **simplification**.\n",
    "- We haven’t yet made use of potentially informative categorical features like `main_category` or `category`.\n",
    "- Adding **cross-validation**, **feature engineering**, and testing other models (e.g., decision trees, gradient boosting) would be valuable next steps.\n",
    "\n",
    "While this was a solid start, there’s still a lot of work ahead to build a robust and generalizable model. That said, we're excited to dive into model tuning and optimization since this is the part we all find most engaging. The data cleaning process was a bit frustrating and a bit of a pain sometimes... so we're glad to have made it through that and can now focus on the fun side of machine learning :)\n",
    "\n",
    "\n",
    "\n",
    "(I know we might do some more cleaning stuff, but we're mostly done)\n"
   ]
  }
 ],
 "metadata": {
  "jupytext": {
   "formats": "ipynb,py:percent"
  },
  "kernelspec": {
   "display_name": "Python 3 (ipykernel)",
   "language": "python",
   "name": "python3"
  },
  "language_info": {
   "codemirror_mode": {
    "name": "ipython",
    "version": 3
   },
   "file_extension": ".py",
   "mimetype": "text/x-python",
   "name": "python",
   "nbconvert_exporter": "python",
   "pygments_lexer": "ipython3",
   "version": "3.12.7"
  }
 },
 "nbformat": 4,
 "nbformat_minor": 5
}
