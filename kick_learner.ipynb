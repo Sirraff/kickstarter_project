{
 "cells": [
  {
   "cell_type": "markdown",
   "id": "74311715-4288-40c4-a5c6-3ac13502535b",
   "metadata": {},
   "source": [
    "## CST 383: Intro to Data Science\n",
    "# Project 2 \n",
    "\n",
    "# Predicting Kickstarter Campaign Success\n",
    "## Authors: Brianna Magallon, Tyler Pruitt, Rafael Reis"
   ]
  },
  {
   "cell_type": "markdown",
   "id": "3b2abba3-2cd9-4a21-813e-fd78cb95fe0f",
   "metadata": {},
   "source": [
    "# Introduction: \n",
    "### In this project, we use the Kickstarter Projects dataset to predict whether a campaign will be successful or not based on features such as ...\n",
    "### Dataset URL: https://www.kaggle.com/datasets/kemical/kickstarter-projects"
   ]
  },
  {
   "cell_type": "code",
   "execution_count": 128,
   "id": "a7ada490-50ed-49cf-99eb-e767383a42a9",
   "metadata": {},
   "outputs": [],
   "source": [
    "import warnings\n",
    "import pandas as pd\n",
    "import seaborn as sns\n",
    "import matplotlib.pyplot as plt\n",
    "from sklearn.model_selection import train_test_split, cross_val_score, GridSearchCV\n",
    "from sklearn.preprocessing import StandardScaler\n",
    "from sklearn.linear_model import LogisticRegression\n",
    "from sklearn.metrics import accuracy_score, confusion_matrix, classification_report\n",
    "from sklearn.neighbors import KNeighborsClassifier"
   ]
  },
  {
   "cell_type": "code",
   "execution_count": 130,
   "id": "a5df41d9-1efa-4332-8516-966ae178cede",
   "metadata": {},
   "outputs": [],
   "source": [
    "# plotting\n",
    "sns.set_theme(style='whitegrid', context='notebook')\n",
    "plt.rcParams['figure.figsize'] = 5,3"
   ]
  },
  {
   "cell_type": "markdown",
   "id": "4af77e08-130d-44c9-9590-dc50fb5a6ce0",
   "metadata": {},
   "source": [
    "## Read the data"
   ]
  },
  {
   "cell_type": "code",
   "execution_count": 133,
   "id": "e9eb5270-0a9f-4d67-807e-f389e7df1d3c",
   "metadata": {},
   "outputs": [],
   "source": [
    "df = pd.read_csv(\"ks-projects-201612.csv\", low_memory = False)"
   ]
  },
  {
   "cell_type": "code",
   "execution_count": 135,
   "id": "8548f04a-2c7c-4cbc-9e9e-809ccdaae018",
   "metadata": {},
   "outputs": [
    {
     "data": {
      "text/html": [
       "<div>\n",
       "<style scoped>\n",
       "    .dataframe tbody tr th:only-of-type {\n",
       "        vertical-align: middle;\n",
       "    }\n",
       "\n",
       "    .dataframe tbody tr th {\n",
       "        vertical-align: top;\n",
       "    }\n",
       "\n",
       "    .dataframe thead th {\n",
       "        text-align: right;\n",
       "    }\n",
       "</style>\n",
       "<table border=\"1\" class=\"dataframe\">\n",
       "  <thead>\n",
       "    <tr style=\"text-align: right;\">\n",
       "      <th></th>\n",
       "      <th>ID</th>\n",
       "      <th>name</th>\n",
       "      <th>category</th>\n",
       "      <th>main_category</th>\n",
       "      <th>currency</th>\n",
       "      <th>deadline</th>\n",
       "      <th>goal</th>\n",
       "      <th>launched</th>\n",
       "      <th>pledged</th>\n",
       "      <th>state</th>\n",
       "      <th>backers</th>\n",
       "      <th>country</th>\n",
       "      <th>usd pledged</th>\n",
       "      <th>Unnamed: 13</th>\n",
       "      <th>Unnamed: 14</th>\n",
       "      <th>Unnamed: 15</th>\n",
       "      <th>Unnamed: 16</th>\n",
       "    </tr>\n",
       "  </thead>\n",
       "  <tbody>\n",
       "    <tr>\n",
       "      <th>0</th>\n",
       "      <td>1000002330</td>\n",
       "      <td>The Songs of Adelaide &amp; Abullah</td>\n",
       "      <td>Poetry</td>\n",
       "      <td>Publishing</td>\n",
       "      <td>GBP</td>\n",
       "      <td>2015-10-09 11:36:00</td>\n",
       "      <td>1000</td>\n",
       "      <td>2015-08-11 12:12:28</td>\n",
       "      <td>0</td>\n",
       "      <td>failed</td>\n",
       "      <td>0</td>\n",
       "      <td>GB</td>\n",
       "      <td>0</td>\n",
       "      <td>NaN</td>\n",
       "      <td>NaN</td>\n",
       "      <td>NaN</td>\n",
       "      <td>NaN</td>\n",
       "    </tr>\n",
       "    <tr>\n",
       "      <th>1</th>\n",
       "      <td>1000004038</td>\n",
       "      <td>Where is Hank?</td>\n",
       "      <td>Narrative Film</td>\n",
       "      <td>Film &amp; Video</td>\n",
       "      <td>USD</td>\n",
       "      <td>2013-02-26 00:20:50</td>\n",
       "      <td>45000</td>\n",
       "      <td>2013-01-12 00:20:50</td>\n",
       "      <td>220</td>\n",
       "      <td>failed</td>\n",
       "      <td>3</td>\n",
       "      <td>US</td>\n",
       "      <td>220</td>\n",
       "      <td>NaN</td>\n",
       "      <td>NaN</td>\n",
       "      <td>NaN</td>\n",
       "      <td>NaN</td>\n",
       "    </tr>\n",
       "    <tr>\n",
       "      <th>2</th>\n",
       "      <td>1000007540</td>\n",
       "      <td>ToshiCapital Rekordz Needs Help to Complete Album</td>\n",
       "      <td>Music</td>\n",
       "      <td>Music</td>\n",
       "      <td>USD</td>\n",
       "      <td>2012-04-16 04:24:11</td>\n",
       "      <td>5000</td>\n",
       "      <td>2012-03-17 03:24:11</td>\n",
       "      <td>1</td>\n",
       "      <td>failed</td>\n",
       "      <td>1</td>\n",
       "      <td>US</td>\n",
       "      <td>1</td>\n",
       "      <td>NaN</td>\n",
       "      <td>NaN</td>\n",
       "      <td>NaN</td>\n",
       "      <td>NaN</td>\n",
       "    </tr>\n",
       "    <tr>\n",
       "      <th>3</th>\n",
       "      <td>1000011046</td>\n",
       "      <td>Community Film Project: The Art of Neighborhoo...</td>\n",
       "      <td>Film &amp; Video</td>\n",
       "      <td>Film &amp; Video</td>\n",
       "      <td>USD</td>\n",
       "      <td>2015-08-29 01:00:00</td>\n",
       "      <td>19500</td>\n",
       "      <td>2015-07-04 08:35:03</td>\n",
       "      <td>1283</td>\n",
       "      <td>canceled</td>\n",
       "      <td>14</td>\n",
       "      <td>US</td>\n",
       "      <td>1283</td>\n",
       "      <td>NaN</td>\n",
       "      <td>NaN</td>\n",
       "      <td>NaN</td>\n",
       "      <td>NaN</td>\n",
       "    </tr>\n",
       "    <tr>\n",
       "      <th>4</th>\n",
       "      <td>1000014025</td>\n",
       "      <td>Monarch Espresso Bar</td>\n",
       "      <td>Restaurants</td>\n",
       "      <td>Food</td>\n",
       "      <td>USD</td>\n",
       "      <td>2016-04-01 13:38:27</td>\n",
       "      <td>50000</td>\n",
       "      <td>2016-02-26 13:38:27</td>\n",
       "      <td>52375</td>\n",
       "      <td>successful</td>\n",
       "      <td>224</td>\n",
       "      <td>US</td>\n",
       "      <td>52375</td>\n",
       "      <td>NaN</td>\n",
       "      <td>NaN</td>\n",
       "      <td>NaN</td>\n",
       "      <td>NaN</td>\n",
       "    </tr>\n",
       "  </tbody>\n",
       "</table>\n",
       "</div>"
      ],
      "text/plain": [
       "          ID                                               name   \\\n",
       "0  1000002330                    The Songs of Adelaide & Abullah   \n",
       "1  1000004038                                     Where is Hank?   \n",
       "2  1000007540  ToshiCapital Rekordz Needs Help to Complete Album   \n",
       "3  1000011046  Community Film Project: The Art of Neighborhoo...   \n",
       "4  1000014025                               Monarch Espresso Bar   \n",
       "\n",
       "        category  main_category  currency             deadline   goal   \\\n",
       "0          Poetry     Publishing       GBP  2015-10-09 11:36:00   1000   \n",
       "1  Narrative Film   Film & Video       USD  2013-02-26 00:20:50  45000   \n",
       "2           Music          Music       USD  2012-04-16 04:24:11   5000   \n",
       "3    Film & Video   Film & Video       USD  2015-08-29 01:00:00  19500   \n",
       "4     Restaurants           Food       USD  2016-04-01 13:38:27  50000   \n",
       "\n",
       "             launched  pledged       state  backers  country  usd pledged   \\\n",
       "0  2015-08-11 12:12:28        0      failed        0       GB            0   \n",
       "1  2013-01-12 00:20:50      220      failed        3       US          220   \n",
       "2  2012-03-17 03:24:11        1      failed        1       US            1   \n",
       "3  2015-07-04 08:35:03     1283    canceled       14       US         1283   \n",
       "4  2016-02-26 13:38:27    52375  successful      224       US        52375   \n",
       "\n",
       "  Unnamed: 13 Unnamed: 14 Unnamed: 15  Unnamed: 16  \n",
       "0         NaN         NaN         NaN          NaN  \n",
       "1         NaN         NaN         NaN          NaN  \n",
       "2         NaN         NaN         NaN          NaN  \n",
       "3         NaN         NaN         NaN          NaN  \n",
       "4         NaN         NaN         NaN          NaN  "
      ]
     },
     "execution_count": 135,
     "metadata": {},
     "output_type": "execute_result"
    }
   ],
   "source": [
    "df.head()"
   ]
  },
  {
   "cell_type": "code",
   "execution_count": 137,
   "id": "bf6a2a5b-a615-41c6-910c-d9d18c15ad98",
   "metadata": {},
   "outputs": [
    {
     "name": "stdout",
     "output_type": "stream",
     "text": [
      "<class 'pandas.core.frame.DataFrame'>\n",
      "RangeIndex: 323750 entries, 0 to 323749\n",
      "Data columns (total 17 columns):\n",
      " #   Column          Non-Null Count   Dtype  \n",
      "---  ------          --------------   -----  \n",
      " 0   ID              323750 non-null  int64  \n",
      " 1   name            323746 non-null  object \n",
      " 2   category        323745 non-null  object \n",
      " 3   main_category   323750 non-null  object \n",
      " 4   currency        323750 non-null  object \n",
      " 5   deadline        323750 non-null  object \n",
      " 6   goal            323750 non-null  object \n",
      " 7   launched        323750 non-null  object \n",
      " 8   pledged         323750 non-null  object \n",
      " 9   state           323750 non-null  object \n",
      " 10  backers         323750 non-null  object \n",
      " 11  country         323750 non-null  object \n",
      " 12  usd pledged     319960 non-null  object \n",
      " 13  Unnamed: 13     625 non-null     object \n",
      " 14  Unnamed: 14     12 non-null      object \n",
      " 15  Unnamed: 15     4 non-null       object \n",
      " 16  Unnamed: 16     1 non-null       float64\n",
      "dtypes: float64(1), int64(1), object(15)\n",
      "memory usage: 42.0+ MB\n"
     ]
    }
   ],
   "source": [
    "df.info()"
   ]
  },
  {
   "cell_type": "markdown",
   "id": "c60fc255-b85c-4c51-ad65-98e484cae474",
   "metadata": {},
   "source": [
    "## Data Exploration"
   ]
  },
  {
   "cell_type": "code",
   "execution_count": 140,
   "id": "c6685cdf-5bb9-4f8d-afd4-908121ff1a58",
   "metadata": {
    "scrolled": true
   },
   "outputs": [
    {
     "data": {
      "text/plain": [
       "Index(['ID ', 'name ', 'category ', 'main_category ', 'currency ', 'deadline ',\n",
       "       'goal ', 'launched ', 'pledged ', 'state ', 'backers ', 'country ',\n",
       "       'usd pledged ', 'Unnamed: 13', 'Unnamed: 14', 'Unnamed: 15',\n",
       "       'Unnamed: 16'],\n",
       "      dtype='object')"
      ]
     },
     "execution_count": 140,
     "metadata": {},
     "output_type": "execute_result"
    }
   ],
   "source": [
    "df.dropna()\n",
    "df.columns"
   ]
  },
  {
   "cell_type": "code",
   "execution_count": 142,
   "id": "f8b439c3-efa8-43a7-bb1f-c939f0f8bd00",
   "metadata": {},
   "outputs": [
    {
     "data": {
      "text/plain": [
       "state \n",
       "failed        168221\n",
       "successful    113081\n",
       "canceled       32354\n",
       "live            4428\n",
       "undefined       3555\n",
       "               ...  \n",
       "2312               1\n",
       "320                1\n",
       "477                1\n",
       "1404               1\n",
       "2634               1\n",
       "Name: count, Length: 410, dtype: int64"
      ]
     },
     "execution_count": 142,
     "metadata": {},
     "output_type": "execute_result"
    }
   ],
   "source": [
    "df['state '].value_counts()"
   ]
  },
  {
   "cell_type": "code",
   "execution_count": 144,
   "id": "81e5aee9-f2c7-4888-ac26-62e95616c27d",
   "metadata": {},
   "outputs": [
    {
     "data": {
      "text/html": [
       "<div>\n",
       "<style scoped>\n",
       "    .dataframe tbody tr th:only-of-type {\n",
       "        vertical-align: middle;\n",
       "    }\n",
       "\n",
       "    .dataframe tbody tr th {\n",
       "        vertical-align: top;\n",
       "    }\n",
       "\n",
       "    .dataframe thead th {\n",
       "        text-align: right;\n",
       "    }\n",
       "</style>\n",
       "<table border=\"1\" class=\"dataframe\">\n",
       "  <thead>\n",
       "    <tr style=\"text-align: right;\">\n",
       "      <th></th>\n",
       "      <th>ID</th>\n",
       "      <th>name</th>\n",
       "      <th>category</th>\n",
       "      <th>main_category</th>\n",
       "      <th>currency</th>\n",
       "      <th>deadline</th>\n",
       "      <th>goal</th>\n",
       "      <th>launched</th>\n",
       "      <th>pledged</th>\n",
       "      <th>state</th>\n",
       "      <th>backers</th>\n",
       "      <th>country</th>\n",
       "      <th>usd pledged</th>\n",
       "      <th>Unnamed: 13</th>\n",
       "      <th>Unnamed: 14</th>\n",
       "      <th>Unnamed: 15</th>\n",
       "      <th>Unnamed: 16</th>\n",
       "    </tr>\n",
       "  </thead>\n",
       "  <tbody>\n",
       "    <tr>\n",
       "      <th>3</th>\n",
       "      <td>1000011046</td>\n",
       "      <td>Community Film Project: The Art of Neighborhoo...</td>\n",
       "      <td>Film &amp; Video</td>\n",
       "      <td>Film &amp; Video</td>\n",
       "      <td>USD</td>\n",
       "      <td>2015-08-29 01:00:00</td>\n",
       "      <td>19500</td>\n",
       "      <td>2015-07-04 08:35:03</td>\n",
       "      <td>1283</td>\n",
       "      <td>canceled</td>\n",
       "      <td>14</td>\n",
       "      <td>US</td>\n",
       "      <td>1283</td>\n",
       "      <td>NaN</td>\n",
       "      <td>NaN</td>\n",
       "      <td>NaN</td>\n",
       "      <td>NaN</td>\n",
       "    </tr>\n",
       "    <tr>\n",
       "      <th>7</th>\n",
       "      <td>1000034518</td>\n",
       "      <td>SPIN - Premium Retractable In-Ear Headphones w...</td>\n",
       "      <td>Product Design</td>\n",
       "      <td>Design</td>\n",
       "      <td>USD</td>\n",
       "      <td>2014-05-29 18:14:43</td>\n",
       "      <td>125000</td>\n",
       "      <td>2014-04-24 18:14:43</td>\n",
       "      <td>8233</td>\n",
       "      <td>canceled</td>\n",
       "      <td>58</td>\n",
       "      <td>US</td>\n",
       "      <td>8233</td>\n",
       "      <td>NaN</td>\n",
       "      <td>NaN</td>\n",
       "      <td>NaN</td>\n",
       "      <td>NaN</td>\n",
       "    </tr>\n",
       "    <tr>\n",
       "      <th>8</th>\n",
       "      <td>100004195</td>\n",
       "      <td>STUDIO IN THE SKY - A Documentary Feature Film...</td>\n",
       "      <td>Documentary</td>\n",
       "      <td>Film &amp; Video</td>\n",
       "      <td>USD</td>\n",
       "      <td>2014-08-10 21:55:48</td>\n",
       "      <td>65000</td>\n",
       "      <td>2014-07-11 21:55:48</td>\n",
       "      <td>6240.57</td>\n",
       "      <td>canceled</td>\n",
       "      <td>43</td>\n",
       "      <td>US</td>\n",
       "      <td>6240.57</td>\n",
       "      <td>NaN</td>\n",
       "      <td>NaN</td>\n",
       "      <td>NaN</td>\n",
       "      <td>NaN</td>\n",
       "    </tr>\n",
       "    <tr>\n",
       "      <th>59</th>\n",
       "      <td>1000256760</td>\n",
       "      <td>Raise the Woof, expanding the love (Canceled)</td>\n",
       "      <td>Design</td>\n",
       "      <td>Design</td>\n",
       "      <td>CAD</td>\n",
       "      <td>2015-08-07 21:46:53</td>\n",
       "      <td>15000</td>\n",
       "      <td>2015-07-08 21:46:53</td>\n",
       "      <td>700</td>\n",
       "      <td>canceled</td>\n",
       "      <td>6</td>\n",
       "      <td>CA</td>\n",
       "      <td>553.324254</td>\n",
       "      <td>NaN</td>\n",
       "      <td>NaN</td>\n",
       "      <td>NaN</td>\n",
       "      <td>NaN</td>\n",
       "    </tr>\n",
       "    <tr>\n",
       "      <th>61</th>\n",
       "      <td>1000260691</td>\n",
       "      <td>Gizbeeô Unlimited Removable Storage for Your T...</td>\n",
       "      <td>Gadgets</td>\n",
       "      <td>Technology</td>\n",
       "      <td>USD</td>\n",
       "      <td>2016-03-25 19:30:27</td>\n",
       "      <td>87000</td>\n",
       "      <td>2016-02-29 20:30:27</td>\n",
       "      <td>2030</td>\n",
       "      <td>canceled</td>\n",
       "      <td>15</td>\n",
       "      <td>US</td>\n",
       "      <td>2030</td>\n",
       "      <td>NaN</td>\n",
       "      <td>NaN</td>\n",
       "      <td>NaN</td>\n",
       "      <td>NaN</td>\n",
       "    </tr>\n",
       "  </tbody>\n",
       "</table>\n",
       "</div>"
      ],
      "text/plain": [
       "           ID                                               name   \\\n",
       "3   1000011046  Community Film Project: The Art of Neighborhoo...   \n",
       "7   1000034518  SPIN - Premium Retractable In-Ear Headphones w...   \n",
       "8    100004195  STUDIO IN THE SKY - A Documentary Feature Film...   \n",
       "59  1000256760      Raise the Woof, expanding the love (Canceled)   \n",
       "61  1000260691  Gizbeeô Unlimited Removable Storage for Your T...   \n",
       "\n",
       "         category  main_category  currency             deadline    goal   \\\n",
       "3     Film & Video   Film & Video       USD  2015-08-29 01:00:00   19500   \n",
       "7   Product Design         Design       USD  2014-05-29 18:14:43  125000   \n",
       "8      Documentary   Film & Video       USD  2014-08-10 21:55:48   65000   \n",
       "59          Design         Design       CAD  2015-08-07 21:46:53   15000   \n",
       "61         Gadgets     Technology       USD  2016-03-25 19:30:27   87000   \n",
       "\n",
       "              launched  pledged     state  backers  country  usd pledged   \\\n",
       "3   2015-07-04 08:35:03     1283  canceled       14       US         1283   \n",
       "7   2014-04-24 18:14:43     8233  canceled       58       US         8233   \n",
       "8   2014-07-11 21:55:48  6240.57  canceled       43       US      6240.57   \n",
       "59  2015-07-08 21:46:53      700  canceled        6       CA   553.324254   \n",
       "61  2016-02-29 20:30:27     2030  canceled       15       US         2030   \n",
       "\n",
       "   Unnamed: 13 Unnamed: 14 Unnamed: 15  Unnamed: 16  \n",
       "3          NaN         NaN         NaN          NaN  \n",
       "7          NaN         NaN         NaN          NaN  \n",
       "8          NaN         NaN         NaN          NaN  \n",
       "59         NaN         NaN         NaN          NaN  \n",
       "61         NaN         NaN         NaN          NaN  "
      ]
     },
     "execution_count": 144,
     "metadata": {},
     "output_type": "execute_result"
    }
   ],
   "source": [
    "df[df['state '] == \"canceled\"].head()"
   ]
  },
  {
   "cell_type": "code",
   "execution_count": 161,
   "id": "ba501279-17cb-4478-8984-50a9411b2bdc",
   "metadata": {},
   "outputs": [
    {
     "data": {
      "image/png": "[encoded data removed]",
      "text/plain": [
       "<Figure size 500x300 with 1 Axes>"
      ]
     },
     "metadata": {},
     "output_type": "display_data"
    }
   ],
   "source": [
    "state_counts = df['state'].value_counts().head(10)\n",
    "state_counts.plot.bar()\n",
    "plt.title('Distribution of campaign outcomes')\n",
    "plt.xlabel('state')\n",
    "plt.ylabel('count')\n",
    "plt.show()"
   ]
  },
  {
   "cell_type": "markdown",
   "id": "983e46a4-bb0c-4f4e-bd30-10c0bd9abae4",
   "metadata": {},
   "source": [
    "## Preprocessing"
   ]
  },
  {
   "cell_type": "markdown",
   "id": "7664962b-c4a0-4552-8b19-0082361c9089",
   "metadata": {},
   "source": [
    "## Test/Train Split"
   ]
  },
  {
   "cell_type": "markdown",
   "id": "413508c2-c849-47c5-9adb-b6c8de93272a",
   "metadata": {},
   "source": [
    "## Baseline Accuracy"
   ]
  },
  {
   "cell_type": "code",
   "execution_count": null,
   "id": "7ab041fd-58eb-412f-8b48-80a5f6a18cf9",
   "metadata": {},
   "outputs": [],
   "source": []
  }
 ],
 "metadata": {
  "jupytext": {
   "formats": "ipynb,py:percent"
  },
  "kernelspec": {
   "display_name": "Python [conda env:base] *",
   "language": "python",
   "name": "conda-base-py"
  },
  "language_info": {
   "codemirror_mode": {
    "name": "ipython",
    "version": 3
   },
   "file_extension": ".py",
   "mimetype": "text/x-python",
   "name": "python",
   "nbconvert_exporter": "python",
   "pygments_lexer": "ipython3",
   "version": "3.12.7"
  }
 },
 "nbformat": 4,
 "nbformat_minor": 5
}
