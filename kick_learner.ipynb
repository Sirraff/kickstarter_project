{
 "cells": [
  {
   "cell_type": "markdown",
   "id": "74311715-4288-40c4-a5c6-3ac13502535b",
   "metadata": {},
   "source": [
    "## CST 383: Intro to Data Science\n",
    "# Project 2 \n",
    "\n",
    "# Predicting Kickstarter Campaign Success\n",
    "## Authors:"
   ]
  },
  {
   "cell_type": "markdown",
   "id": "3b2abba3-2cd9-4a21-813e-fd78cb95fe0f",
   "metadata": {},
   "source": [
    "# Introduction: \n",
    "### In this project, we use the Kickstarter Projects dataset to predict whether a campaign will be successful or not based on features such as ...\n",
    "### Dataset URL: https://www.kaggle.com/datasets/kemical/kickstarter-projects"
   ]
  },
  {
   "cell_type": "code",
   "execution_count": 24,
   "id": "a7ada490-50ed-49cf-99eb-e767383a42a9",
   "metadata": {},
   "outputs": [],
   "source": [
    "import warnings\n",
    "import pandas as pd\n",
    "import seaborn as sns\n",
    "import matplotlib.pyplot as plt\n",
    "from sklearn.model_selection import train_test_split, cross_val_score, GridSearchCV\n",
    "from sklearn.preprocessing import StandardScaler\n",
    "from sklearn.linear_model import LogisticRegression\n",
    "from sklearn.metrics import accuracy_score, confusion_matrix, classification_report\n",
    "from sklearn.neighbors import KNeighborsClassifier"
   ]
  },
  {
   "cell_type": "code",
   "execution_count": 26,
   "id": "a5df41d9-1efa-4332-8516-966ae178cede",
   "metadata": {},
   "outputs": [],
   "source": [
    "# plotting\n",
    "sns.set_theme(style='whitegrid', context='notebook')\n",
    "plt.rcParams['figure.figsize'] = 5,3"
   ]
  },
  {
   "cell_type": "markdown",
   "id": "4af77e08-130d-44c9-9590-dc50fb5a6ce0",
   "metadata": {},
   "source": [
    "## Read the data"
   ]
  },
  {
   "cell_type": "code",
   "execution_count": 38,
   "id": "e9eb5270-0a9f-4d67-807e-f389e7df1d3c",
   "metadata": {},
   "outputs": [],
   "source": [
    "#df = pd.read_csv(\"\")"
   ]
  },
  {
   "cell_type": "code",
   "execution_count": 32,
   "id": "8548f04a-2c7c-4cbc-9e9e-809ccdaae018",
   "metadata": {},
   "outputs": [
    {
     "ename": "NameError",
     "evalue": "name 'df' is not defined",
     "output_type": "error",
     "traceback": [
      "\u001b[0;31m---------------------------------------------------------------------------\u001b[0m",
      "\u001b[0;31mNameError\u001b[0m                                 Traceback (most recent call last)",
      "Cell \u001b[0;32mIn[32], line 1\u001b[0m\n\u001b[0;32m----> 1\u001b[0m df\u001b[38;5;241m.\u001b[39mhead()\n",
      "\u001b[0;31mNameError\u001b[0m: name 'df' is not defined"
     ]
    }
   ],
   "source": [
    "df.head()"
   ]
  },
  {
   "cell_type": "code",
   "execution_count": null,
   "id": "bf6a2a5b-a615-41c6-910c-d9d18c15ad98",
   "metadata": {},
   "outputs": [],
   "source": [
    "df.info()"
   ]
  },
  {
   "cell_type": "markdown",
   "id": "c60fc255-b85c-4c51-ad65-98e484cae474",
   "metadata": {},
   "source": [
    "## Data Exploration"
   ]
  },
  {
   "cell_type": "markdown",
   "id": "983e46a4-bb0c-4f4e-bd30-10c0bd9abae4",
   "metadata": {},
   "source": [
    "## Preprocessing"
   ]
  },
  {
   "cell_type": "markdown",
   "id": "7664962b-c4a0-4552-8b19-0082361c9089",
   "metadata": {},
   "source": [
    "## Test/Train Split"
   ]
  },
  {
   "cell_type": "markdown",
   "id": "413508c2-c849-47c5-9adb-b6c8de93272a",
   "metadata": {},
   "source": [
    "## Baseline Accuracy"
   ]
  }
 ],
 "metadata": {
  "jupytext": {
   "formats": "ipynb,py:percent"
  },
  "kernelspec": {
   "display_name": "Python [conda env:base] *",
   "language": "python",
   "name": "conda-base-py"
  },
  "language_info": {
   "codemirror_mode": {
    "name": "ipython",
    "version": 3
   },
   "file_extension": ".py",
   "mimetype": "text/x-python",
   "name": "python",
   "nbconvert_exporter": "python",
   "pygments_lexer": "ipython3",
   "version": "3.12.7"
  }
 },
 "nbformat": 4,
 "nbformat_minor": 5
}
